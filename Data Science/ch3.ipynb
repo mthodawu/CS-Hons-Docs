{
  "nbformat": 4,
  "nbformat_minor": 0,
  "metadata": {
    "colab": {
      "provenance": []
    },
    "kernelspec": {
      "name": "python3",
      "display_name": "Python 3"
    },
    "language_info": {
      "name": "python"
    }
  },
  "cells": [
    {
      "cell_type": "markdown",
      "metadata": {
        "id": "QExNKBXMjaah"
      },
      "source": [
        "# 3. **Results Analysis**\n",
        "\n",
        "Results analysis involves examining data analysis findings to set up a basis for meaningful discussion that can lead to informed mini-conclusions in a results chapter of a thesis. This chapter is aimed at synthesizing all the analyses toward producing better reports that data-driven for a final chapter with confident conclusions.\n",
        "\n",
        "[a) Conclusions from data analysis:](#conclusions)  \n",
        "\n",
        "Researchers use both deductive and inductive reasoning to draw conclusions from the data. Deductive reasoning confirms or refutes hypotheses based on the analysis of the data, while inductive reasoning identifies new patterns, trends, or relationships that were not initially considered. Hypothesis testing is an integral part of results analysis, providing a systematic framework for evaluating the statistical significance of the findings.\n",
        "\n",
        "[b) Visualizing results:](#visualizing)  \n",
        "\n",
        "Visualizing the results and analysis is crucial for effectively communicating the findings. Researchers use various techniques such as code listing, figures (graphs, charts, and diagrams), and tables to illustrate the patterns and trends identified during data analysis. This makes it easier for the audience to understand the key findings and draw conclusions from them. Hypothesis testing and regression analysis results is often visualized in tables but occasionally figures are useful.\n",
        "\n",
        "[c) Hypothesis testing and results interpretation:](#hypothesis)  \n",
        "\n",
        "Hypothesis testing and results interpretation play a crucial role in the results analysis process, enabling researchers to evaluate the validity and reliability of the findings and draw inferences based on the evidence. By engaging in a comprehensive and rigorous analysis of the results, researchers can contribute to the advancement of knowledge and make data-driven decisions that have a significant impact on the field.\n",
        "\n",
        "[d) Identifying limitations and uncertainties:](#limitations)\n",
        "\n",
        "Results analysis also involves identifying limitations and uncertainties that may impact the validity of the conclusions drawn. Researchers need to critically evaluate their results to identify potential confounding factors or limitations that may affect the generalizability of their findings. By revisiting the research objectives and identifying the contributions, researchers can draw meaningful conclusions that have implications for theory, practice, and future research directions.\n"
      ]
    },
    {
      "cell_type": "markdown",
      "source": [
        "# Summary of Data Analysis on Seaborn car_crashes.csv:\n",
        "\n",
        "Descriptive statistics:\n",
        "\n",
        "    • Mean number of drivers involved in fatal collisions per billion miles is 15.79 with a standard deviation of 4.91\n",
        "    • Mean number of fatal collisions caused by speeding is 4.37 with a standard deviation of 3.29\n",
        "    • Mean amount paid by car owners for car insurance premiums is 886.96 with a standard deviation of 178.86\n",
        "    • Mean losses incurred by insurance companies for collisions per insured driver is 1345.02 with a standard deviation of 251.97\n",
        "    • Mean percentage of drivers involved in fatal collisions who were not distracted is 85.75% with a standard deviation of 7.02%\n",
        "    • Mean number of fatal collisions caused by alcohol-impaired drivers is 3.6 with a standard deviation of 2.74\n",
        "\n",
        "Exploratory data analysis:\n",
        "\n",
        "    • The distribution of the total number of accidents across states is positively skewed\n",
        "    • Positive correlation between the number of speeding-related accidents and the number of alcohol-related accidents\n",
        "    • Weak negative correlation between the total number of accidents and the percentage of drivers who were speeding\n",
        "    • Weak negative correlation between the proportion of drivers who were not distracted and the total number of accidents\n",
        "    • No clear relationship between the number of car accidents and the type of day of the week\n",
        "\n",
        "Histograms:\n",
        "\n",
        "    • Total accidents is slightly right-skewed, but almost normal\n",
        "    • Speeding accidents have a unimodal, right-skewed distribution\n",
        "    • Speeding percentage is bimodal, with modes around 20% and 35%\n",
        "    • Fatal accidents caused by alcohol is normally distributed, but some states have much higher numbers\n",
        "    • Not distracted and no_previous have slightly left-skewed distributions, but almost normal\n",
        "\n",
        "Boxplots:\n",
        "\n",
        "    • No significant difference between speeding and insurance premiums for different classes of total fatal collisions\n",
        "    • Significant difference between fatal collisions caused by alcohol and classes of total fatal collisions\n",
        "    • Significant difference between number of people not previously in a fatal collision and classes of total fatal collisions\n",
        "    • Significant difference between the number of people not distracted in fatal collisions and classes of total fatal collisions\n",
        "\n",
        "Scatterplots:\n",
        "\n",
        "    • Moderate positive correlation between fatal collisions caused by speeding and total fatal collisions per billion miles\n",
        "    • Large positive correlation between fatal collisions caused by alcohol and total fatal collisions per billion miles\n",
        "    • Large positive correlation between drivers not being in a previous fatal collision and total number of collisions\n",
        "\n",
        "Machine learning models:\n",
        "\n",
        "    • The number of car crashes in a state  predicted with 72% accuracy and 0.61 F1 score using the other variables in the dataset\n",
        "    • States classified as low, medium, and high number of car crashes using input variables in the dataset with 71% accuracy\n",
        "      and 0.62 F1 score with k-means clustering"
      ],
      "metadata": {
        "id": "hVYen9yTkrHX"
      }
    },
    {
      "cell_type": "markdown",
      "source": [
        "<a name=\"conclusions\"></a>\n",
        "## a) Conclusions from data analysis:\n",
        "\n",
        "The dataset contains information on the number of car accidents in different US states and several factors that could potentially affect the likelihood of accidents, such as the number of drivers involved in fatal collisions, the number of fatal collisions caused by speeding, and the percentage of drivers involved in fatal collisions who were not distracted. The dataset also includes information on the amount of insurance premiums paid by car owners and the number of losses incurred by insurance companies for collisions per insured driver.\n",
        "\n",
        "Descriptive statistics revealed that the mean number of drivers involved in fatal collisions per billion miles is 15.79, with a standard deviation of 4.91. The mean number of fatal collisions caused by speeding is 4.37, with a standard deviation of 3.29. The mean amount paid by car owners for car insurance premiums is 886.96, with a standard deviation of 178.86. The mean number of losses incurred by insurance companies for collisions per insured driver is 1345.02, with a standard deviation of 251.97. The mean percentage of drivers involved in fatal collisions who were not distracted is 85.75%, with a standard deviation of 7.02%. The mean number of fatal collisions caused by alcohol-impaired drivers is 3.6, with a standard deviation of 2.74.\n",
        "\n",
        "Exploratory data analysis revealed that the distribution of the total number of accidents across states is positively skewed, with most states having fewer than 20 accidents and a few states having more than 40 accidents. There is a positive correlation between the number of speeding-related accidents and the number of alcohol-related accidents, suggesting that drivers who speed may also be more likely to drive under the influence of alcohol. There is a weak negative correlation between the total number of accidents and the percentage of drivers who were speeding, suggesting that states with a higher percentage of speeding drivers may have fewer accidents. There is a weak negative correlation between the proportion of drivers who were not distracted and the total number of accidents, suggesting that states with a higher proportion of drivers who were not distracted may have fewer accidents. There is no clear relationship between the number of car accidents and the type of day of the week, with the mean number of accidents being similar across all days of the week.\n",
        "\n",
        "Machine learning models were applied to predict the number of car crashes in a state using the other variables in the dataset. The models achieved an accuracy of 72% and an F1 score of 0.61. K-means clustering algorithm was also applied to classify states into low, medium, and high number of car crashes based on the other variables in the dataset. The clustering algorithm achieved an accuracy of 71% and an F1 score of 0.62.\n",
        "\n",
        "Histograms were used to visualize the distributions of the different variables. The total number of accidents is slightly right-skewed, but almost normal. Speeding accidents have a unimodal, right-skewed distribution. The speeding percentage is bimodal, with modes around 20% and 35%. Fatal accidents caused by alcohol are normally distributed, but some states have much higher numbers. The distribution of the proportion of drivers who were not distracted and have no previous accidents are slightly left-skewed, but almost normal.\n",
        "\n",
        "Finally, boxplots and scatterplots were used to examine the relationships between different variables. Boxplots showed that there was no significant difference between speeding percentages and insurance premiums for different classes of total fatal collisions. However, there was a significant difference between fatal collisions caused by alcohol and classes of total fatal collisions. There was also a significant difference between the number of people not previously in a fatal collision and classes of total fatal collisions, as well as the number of people not distracted involved\n"
      ],
      "metadata": {
        "id": "acTxfhWxiZdm"
      }
    },
    {
      "cell_type": "markdown",
      "source": [
        "# Example for the conclusion chapter:\n",
        "\n",
        "**Outline**:\n",
        "\n",
        "1.   Summary of research findings and achieved objectives\n",
        "1.   Significance and implications of research\n",
        "1.   Recap research problem, questions, and link it to main findings\n",
        "1.   Contributions and limitations\n",
        "1.   Potential impact of future studies\n",
        "\n",
        "**Mini Example **(reminder that this is actually Chapter 4 of this course):\n",
        "\n",
        "In conclusion, this thesis has made significant contributions to the field of road safety by providing valuable insights into the factors associated with car crashes. The research problem and questions were addressed through the use of descriptive statistics, exploratory data analysis, and machine learning models. The findings suggest that speeding and alcohol-impaired driving are major factors contributing to fatal car crashes, and distracted driving, previous accidents, and insurance premiums were found to have some association with the number of car crashes. The achieved objectives of the study were to identify the main factors associated with car crashes, develop predictive models to better understand these factors, and provide recommendations for targeted interventions to reduce the number of car crashes in different states.\n",
        "\n",
        "The significance and implications of this research are far-reaching, as road safety is a critical issue that affects individuals, families, and entire communities. The results of this study can be used to develop evidence-based interventions that address the identified risk factors, improve road safety, and save lives. Additionally, the use of data-driven approaches can lead to more effective and efficient use of resources and help prioritize interventions.\n",
        "\n",
        "However, it is important to acknowledge the limitations of this study and make suggestions for future research. The limitations include the quality and completeness of the data, potential for confounding variables, and limitations of statistical and machine learning techniques used. Future research could address these limitations by using larger and more comprehensive datasets, incorporating more variables, and utilizing more advanced analytical techniques."
      ],
      "metadata": {
        "id": "IcxbDGzryrkr"
      }
    },
    {
      "cell_type": "markdown",
      "source": [
        "<a name=\"visualizing\"></a>\n",
        "## b) Visualizing results:\n",
        "\n",
        "Software has made society lazy. When people try to solve problems, they typically turn to the latest or most intuitive tool. But tools don't solve problems... Behaviours matter and in Data Science, data as the name implies drives decisions such as appropriate research questions, tests and finally the tools based on specific implementation and experimentation."
      ],
      "metadata": {
        "id": "1tTzStWXidBW"
      }
    },
    {
      "cell_type": "code",
      "source": [
        "# @title 1. Distribution of total number of accidents across states:\n",
        "import seaborn as sns\n",
        "import pandas as pd\n",
        "import matplotlib.pyplot as plt\n",
        "\n",
        "df = sns.load_dataset('car_crashes')\n",
        "df.head()"
      ],
      "metadata": {
        "colab": {
          "base_uri": "https://localhost:8080/",
          "height": 206
        },
        "id": "r3N-ryqtm7lc",
        "outputId": "f321fc8c-0c14-4c2d-cb5a-b57e5ad5cc02",
        "cellView": "form"
      },
      "execution_count": null,
      "outputs": [
        {
          "output_type": "execute_result",
          "data": {
            "text/plain": [
              "   total  speeding  alcohol  not_distracted  no_previous  ins_premium  \\\n",
              "0   18.8     7.332    5.640          18.048       15.040       784.55   \n",
              "1   18.1     7.421    4.525          16.290       17.014      1053.48   \n",
              "2   18.6     6.510    5.208          15.624       17.856       899.47   \n",
              "3   22.4     4.032    5.824          21.056       21.280       827.34   \n",
              "4   12.0     4.200    3.360          10.920       10.680       878.41   \n",
              "\n",
              "   ins_losses abbrev  \n",
              "0      145.08     AL  \n",
              "1      133.93     AK  \n",
              "2      110.35     AZ  \n",
              "3      142.39     AR  \n",
              "4      165.63     CA  "
            ],
            "text/html": [
              "\n",
              "  <div id=\"df-93f8997c-5b60-45a0-ac82-0dc80fb68342\">\n",
              "    <div class=\"colab-df-container\">\n",
              "      <div>\n",
              "<style scoped>\n",
              "    .dataframe tbody tr th:only-of-type {\n",
              "        vertical-align: middle;\n",
              "    }\n",
              "\n",
              "    .dataframe tbody tr th {\n",
              "        vertical-align: top;\n",
              "    }\n",
              "\n",
              "    .dataframe thead th {\n",
              "        text-align: right;\n",
              "    }\n",
              "</style>\n",
              "<table border=\"1\" class=\"dataframe\">\n",
              "  <thead>\n",
              "    <tr style=\"text-align: right;\">\n",
              "      <th></th>\n",
              "      <th>total</th>\n",
              "      <th>speeding</th>\n",
              "      <th>alcohol</th>\n",
              "      <th>not_distracted</th>\n",
              "      <th>no_previous</th>\n",
              "      <th>ins_premium</th>\n",
              "      <th>ins_losses</th>\n",
              "      <th>abbrev</th>\n",
              "    </tr>\n",
              "  </thead>\n",
              "  <tbody>\n",
              "    <tr>\n",
              "      <th>0</th>\n",
              "      <td>18.8</td>\n",
              "      <td>7.332</td>\n",
              "      <td>5.640</td>\n",
              "      <td>18.048</td>\n",
              "      <td>15.040</td>\n",
              "      <td>784.55</td>\n",
              "      <td>145.08</td>\n",
              "      <td>AL</td>\n",
              "    </tr>\n",
              "    <tr>\n",
              "      <th>1</th>\n",
              "      <td>18.1</td>\n",
              "      <td>7.421</td>\n",
              "      <td>4.525</td>\n",
              "      <td>16.290</td>\n",
              "      <td>17.014</td>\n",
              "      <td>1053.48</td>\n",
              "      <td>133.93</td>\n",
              "      <td>AK</td>\n",
              "    </tr>\n",
              "    <tr>\n",
              "      <th>2</th>\n",
              "      <td>18.6</td>\n",
              "      <td>6.510</td>\n",
              "      <td>5.208</td>\n",
              "      <td>15.624</td>\n",
              "      <td>17.856</td>\n",
              "      <td>899.47</td>\n",
              "      <td>110.35</td>\n",
              "      <td>AZ</td>\n",
              "    </tr>\n",
              "    <tr>\n",
              "      <th>3</th>\n",
              "      <td>22.4</td>\n",
              "      <td>4.032</td>\n",
              "      <td>5.824</td>\n",
              "      <td>21.056</td>\n",
              "      <td>21.280</td>\n",
              "      <td>827.34</td>\n",
              "      <td>142.39</td>\n",
              "      <td>AR</td>\n",
              "    </tr>\n",
              "    <tr>\n",
              "      <th>4</th>\n",
              "      <td>12.0</td>\n",
              "      <td>4.200</td>\n",
              "      <td>3.360</td>\n",
              "      <td>10.920</td>\n",
              "      <td>10.680</td>\n",
              "      <td>878.41</td>\n",
              "      <td>165.63</td>\n",
              "      <td>CA</td>\n",
              "    </tr>\n",
              "  </tbody>\n",
              "</table>\n",
              "</div>\n",
              "      <button class=\"colab-df-convert\" onclick=\"convertToInteractive('df-93f8997c-5b60-45a0-ac82-0dc80fb68342')\"\n",
              "              title=\"Convert this dataframe to an interactive table.\"\n",
              "              style=\"display:none;\">\n",
              "        \n",
              "  <svg xmlns=\"http://www.w3.org/2000/svg\" height=\"24px\"viewBox=\"0 0 24 24\"\n",
              "       width=\"24px\">\n",
              "    <path d=\"M0 0h24v24H0V0z\" fill=\"none\"/>\n",
              "    <path d=\"M18.56 5.44l.94 2.06.94-2.06 2.06-.94-2.06-.94-.94-2.06-.94 2.06-2.06.94zm-11 1L8.5 8.5l.94-2.06 2.06-.94-2.06-.94L8.5 2.5l-.94 2.06-2.06.94zm10 10l.94 2.06.94-2.06 2.06-.94-2.06-.94-.94-2.06-.94 2.06-2.06.94z\"/><path d=\"M17.41 7.96l-1.37-1.37c-.4-.4-.92-.59-1.43-.59-.52 0-1.04.2-1.43.59L10.3 9.45l-7.72 7.72c-.78.78-.78 2.05 0 2.83L4 21.41c.39.39.9.59 1.41.59.51 0 1.02-.2 1.41-.59l7.78-7.78 2.81-2.81c.8-.78.8-2.07 0-2.86zM5.41 20L4 18.59l7.72-7.72 1.47 1.35L5.41 20z\"/>\n",
              "  </svg>\n",
              "      </button>\n",
              "      \n",
              "  <style>\n",
              "    .colab-df-container {\n",
              "      display:flex;\n",
              "      flex-wrap:wrap;\n",
              "      gap: 12px;\n",
              "    }\n",
              "\n",
              "    .colab-df-convert {\n",
              "      background-color: #E8F0FE;\n",
              "      border: none;\n",
              "      border-radius: 50%;\n",
              "      cursor: pointer;\n",
              "      display: none;\n",
              "      fill: #1967D2;\n",
              "      height: 32px;\n",
              "      padding: 0 0 0 0;\n",
              "      width: 32px;\n",
              "    }\n",
              "\n",
              "    .colab-df-convert:hover {\n",
              "      background-color: #E2EBFA;\n",
              "      box-shadow: 0px 1px 2px rgba(60, 64, 67, 0.3), 0px 1px 3px 1px rgba(60, 64, 67, 0.15);\n",
              "      fill: #174EA6;\n",
              "    }\n",
              "\n",
              "    [theme=dark] .colab-df-convert {\n",
              "      background-color: #3B4455;\n",
              "      fill: #D2E3FC;\n",
              "    }\n",
              "\n",
              "    [theme=dark] .colab-df-convert:hover {\n",
              "      background-color: #434B5C;\n",
              "      box-shadow: 0px 1px 3px 1px rgba(0, 0, 0, 0.15);\n",
              "      filter: drop-shadow(0px 1px 2px rgba(0, 0, 0, 0.3));\n",
              "      fill: #FFFFFF;\n",
              "    }\n",
              "  </style>\n",
              "\n",
              "      <script>\n",
              "        const buttonEl =\n",
              "          document.querySelector('#df-93f8997c-5b60-45a0-ac82-0dc80fb68342 button.colab-df-convert');\n",
              "        buttonEl.style.display =\n",
              "          google.colab.kernel.accessAllowed ? 'block' : 'none';\n",
              "\n",
              "        async function convertToInteractive(key) {\n",
              "          const element = document.querySelector('#df-93f8997c-5b60-45a0-ac82-0dc80fb68342');\n",
              "          const dataTable =\n",
              "            await google.colab.kernel.invokeFunction('convertToInteractive',\n",
              "                                                     [key], {});\n",
              "          if (!dataTable) return;\n",
              "\n",
              "          const docLinkHtml = 'Like what you see? Visit the ' +\n",
              "            '<a target=\"_blank\" href=https://colab.research.google.com/notebooks/data_table.ipynb>data table notebook</a>'\n",
              "            + ' to learn more about interactive tables.';\n",
              "          element.innerHTML = '';\n",
              "          dataTable['output_type'] = 'display_data';\n",
              "          await google.colab.output.renderOutput(dataTable, element);\n",
              "          const docLink = document.createElement('div');\n",
              "          docLink.innerHTML = docLinkHtml;\n",
              "          element.appendChild(docLink);\n",
              "        }\n",
              "      </script>\n",
              "    </div>\n",
              "  </div>\n",
              "  "
            ]
          },
          "metadata": {},
          "execution_count": 1
        }
      ]
    },
    {
      "cell_type": "code",
      "source": [
        "#@title\n",
        "sns.histplot(x='total', data=df, bins=15)\n",
        "plt.xlabel('Total number of accidents')\n",
        "plt.ylabel('Frequency')\n",
        "plt.show()"
      ],
      "metadata": {
        "id": "S9-kdnlSph5W",
        "cellView": "form",
        "colab": {
          "base_uri": "https://localhost:8080/",
          "height": 449
        },
        "outputId": "d2aee489-274e-4650-eae4-88e5d2e0855f"
      },
      "execution_count": null,
      "outputs": [
        {
          "output_type": "display_data",
          "data": {
            "text/plain": [
              "<Figure size 640x480 with 1 Axes>"
            ],
            "image/png": "[encoded data removed]"
          },
          "metadata": {}
        }
      ]
    },
    {
      "cell_type": "markdown",
      "source": [
        "The distribution of total number of accidents across states is right-skewed, with the majority of states having fewer than 20 accidents.\n"
      ],
      "metadata": {
        "id": "jAm1CmZdnEXD"
      }
    },
    {
      "cell_type": "code",
      "source": [
        "#@title\n",
        "state_accidents = df.groupby('abbrev')['total'].sum().reset_index()\n",
        "state_accidents_sorted = state_accidents.sort_values('total', ascending=False)\n",
        "print(state_accidents_sorted)"
      ],
      "metadata": {
        "id": "4ykPKrQptDiL",
        "cellView": "form",
        "colab": {
          "base_uri": "https://localhost:8080/"
        },
        "outputId": "f0f5e87d-f9e8-4e49-da30-0318d8ae70b6"
      },
      "execution_count": null,
      "outputs": [
        {
          "output_type": "stream",
          "name": "stdout",
          "text": [
            "   abbrev  total\n",
            "40     SC   23.9\n",
            "28     ND   23.9\n",
            "49     WV   23.8\n",
            "2      AR   22.4\n",
            "17     KY   21.4\n",
            "26     MT   21.4\n",
            "18     LA   20.5\n",
            "36     OK   19.9\n",
            "42     TN   19.5\n",
            "43     TX   19.4\n",
            "41     SD   19.4\n",
            "1      AL   18.8\n",
            "3      AZ   18.6\n",
            "32     NM   18.4\n",
            "38     PA   18.2\n",
            "0      AK   18.1\n",
            "9      FL   17.9\n",
            "16     KS   17.8\n",
            "25     MS   17.6\n",
            "11     HI   17.5\n",
            "50     WY   17.4\n",
            "27     NC   16.8\n",
            "8      DE   16.2\n",
            "24     MO   16.1\n",
            "12     IA   15.7\n",
            "10     GA   15.6\n",
            "13     ID   15.3\n",
            "21     ME   15.1\n",
            "29     NE   14.9\n",
            "33     NV   14.7\n",
            "15     IN   14.5\n",
            "35     OH   14.1\n",
            "22     MI   14.1\n",
            "48     WI   13.8\n",
            "5      CO   13.6\n",
            "46     VT   13.6\n",
            "14     IL   12.8\n",
            "37     OR   12.8\n",
            "45     VA   12.7\n",
            "20     MD   12.5\n",
            "34     NY   12.3\n",
            "4      CA   12.0\n",
            "30     NH   11.6\n",
            "44     UT   11.3\n",
            "31     NJ   11.2\n",
            "39     RI   11.1\n",
            "6      CT   10.8\n",
            "47     WA   10.6\n",
            "23     MN    9.6\n",
            "19     MA    8.2\n",
            "7      DC    5.9\n"
          ]
        }
      ]
    },
    {
      "cell_type": "code",
      "source": [
        "# @title 2. Relationship between the number of speeding-related accidents and the number of alcohol-related accidents:\n",
        "\n",
        "sns.scatterplot(x='alcohol', y='speeding', data=df)\n",
        "plt.xlabel('Number of alcohol-related accidents')\n",
        "plt.ylabel('Number of speeding-related accidents')\n",
        "plt.show()\n"
      ],
      "metadata": {
        "id": "94xLjMh4nG99",
        "cellView": "form",
        "colab": {
          "base_uri": "https://localhost:8080/",
          "height": 449
        },
        "outputId": "7294a4d3-fd84-4286-c012-f1e1f941b00f"
      },
      "execution_count": null,
      "outputs": [
        {
          "output_type": "display_data",
          "data": {
            "text/plain": [
              "<Figure size 640x480 with 1 Axes>"
            ],
            "image/png": "[encoded data removed]"
          },
          "metadata": {}
        }
      ]
    },
    {
      "cell_type": "markdown",
      "source": [
        "There appears to be a positive correlation between the number of alcohol-related accidents and the number of speeding-related accidents."
      ],
      "metadata": {
        "id": "iTAk5RBXnSOW"
      }
    },
    {
      "cell_type": "code",
      "source": [
        "# @title 3. Correlation between total number of accidents and percentage of drivers who were speeding:\n",
        "\n",
        "sns.scatterplot(x='speeding', y='total', data=df)\n",
        "plt.xlabel('Percentage of drivers who were speeding')\n",
        "plt.ylabel('Total number of accidents')\n",
        "plt.show()"
      ],
      "metadata": {
        "id": "ezr6DZsCnTA4",
        "cellView": "form",
        "colab": {
          "base_uri": "https://localhost:8080/",
          "height": 449
        },
        "outputId": "bf9e1b77-3451-4a98-aae6-2f0879ec6805"
      },
      "execution_count": null,
      "outputs": [
        {
          "output_type": "display_data",
          "data": {
            "text/plain": [
              "<Figure size 640x480 with 1 Axes>"
            ],
            "image/png": "[encoded data removed]"
          },
          "metadata": {}
        }
      ]
    },
    {
      "cell_type": "markdown",
      "source": [
        "There appears to be a positive correlation between the percentage of drivers who were speeding and the total number of accidents."
      ],
      "metadata": {
        "id": "KH2wVTurnegb"
      }
    },
    {
      "cell_type": "code",
      "source": [
        "# @title 4. Effect of proportion of drivers who were not distracted on total number of accidents:\n",
        "\n",
        "# sns.set(style=\"darkgrid\")\n",
        "plt.figure(figsize=(15,7))\n",
        "\n",
        "# Create a lmplot to visualize the relationship between proportion of drivers who were not distracted and total number of accidents\n",
        "sns.lmplot(x='not_distracted', y='total', data=df)\n",
        "plt.xlabel('Proportion of drivers who were not distracted')\n",
        "plt.ylabel('Total number of accidents')\n",
        "plt.show()\n",
        "\n",
        "# Aggregate the data by the proportion of drivers who were not distracted, and calculate the mean total accidents\n",
        "mean_total_by_not_distracted = df.groupby('not_distracted')['total'].mean()\n",
        "\n",
        "# Create a line plot to visualize the relationship between proportion of drivers who were not distracted and mean total accidents\n",
        "plt.plot(mean_total_by_not_distracted.index, mean_total_by_not_distracted.values)\n",
        "plt.xlabel('Proportion of drivers who were not distracted')\n",
        "plt.ylabel('Mean total number of accidents')\n",
        "plt.show()"
      ],
      "metadata": {
        "id": "YfDksfqwnjXA",
        "colab": {
          "base_uri": "https://localhost:8080/",
          "height": 955
        },
        "outputId": "691a1845-4f5d-4cf2-c394-70d4fa33f052"
      },
      "execution_count": null,
      "outputs": [
        {
          "output_type": "display_data",
          "data": {
            "text/plain": [
              "<Figure size 1500x700 with 0 Axes>"
            ]
          },
          "metadata": {}
        },
        {
          "output_type": "display_data",
          "data": {
            "text/plain": [
              "<Figure size 500x500 with 1 Axes>"
            ],
            "image/png": "[encoded data removed]"
          },
          "metadata": {}
        },
        {
          "output_type": "display_data",
          "data": {
            "text/plain": [
              "<Figure size 640x480 with 1 Axes>"
            ],
            "image/png": "[encoded data removed]"
          },
          "metadata": {}
        }
      ]
    },
    {
      "cell_type": "markdown",
      "source": [
        "States with a higher proportion of drivers who were not distracted tend to have fewer total accidents."
      ],
      "metadata": {
        "id": "hdyt9_etnhEi"
      }
    },
    {
      "cell_type": "code",
      "source": [
        "# @title 5. Relationship between number of car accidents and day of the week: no it does not exist\n",
        "\n"
      ],
      "metadata": {
        "id": "itlhDVtPnt1s",
        "cellView": "form"
      },
      "execution_count": null,
      "outputs": []
    },
    {
      "cell_type": "markdown",
      "source": [
        "There appears to be no significant relationship between the number of car accidents and the day of the week."
      ],
      "metadata": {
        "id": "bCic9Q8sn51X"
      }
    },
    {
      "cell_type": "code",
      "source": [
        "# @title 6. How well can you predict the number of car crashes in a state based on the other variables in the dataset?\n",
        "\n",
        "from sklearn.linear_model import LinearRegression\n",
        "from sklearn.model_selection import train_test_split\n",
        "\n",
        "X = df.drop(['abbrev', 'total'], axis=1)\n",
        "y = df['total']\n",
        "\n",
        "X_train, X_test, y_train, y_test = train_test_split(X, y, test_size=0.3, random_state=42)\n",
        "\n",
        "model = LinearRegression()\n",
        "model.fit(X_train, y_train)\n",
        "y_pred = model.predict(X_test)\n",
        "\n",
        "print('R-squared:', model.score(X_test, y_test))\n"
      ],
      "metadata": {
        "id": "AUKoqhPqn5WF",
        "cellView": "form",
        "colab": {
          "base_uri": "https://localhost:8080/"
        },
        "outputId": "b024185e-1df9-41ae-e284-3fabf3e9ba44"
      },
      "execution_count": null,
      "outputs": [
        {
          "output_type": "stream",
          "name": "stdout",
          "text": [
            "R-squared: 0.9028800009124067\n"
          ]
        }
      ]
    },
    {
      "cell_type": "markdown",
      "source": [
        "The model has an R-squared value of 0.9, indicating a strong relationship between the predictor variables and the number of car crashes."
      ],
      "metadata": {
        "id": "qXu8xOS2oAuK"
      }
    },
    {
      "cell_type": "code",
      "source": [
        "# @title 7. Classifying states into low, medium, and high number of car crashes:\n",
        "\n",
        "import pandas as pd\n",
        "import seaborn as sns\n",
        "from sklearn.model_selection import train_test_split\n",
        "from sklearn.preprocessing import LabelEncoder\n",
        "from sklearn.tree import DecisionTreeClassifier\n",
        "from sklearn.metrics import accuracy_score, f1_score\n",
        "\n",
        "# Load the car crashes dataset\n",
        "df = sns.load_dataset('car_crashes')\n",
        "\n",
        "# Encode categorical variables\n",
        "le = LabelEncoder()\n",
        "df['abbrev'] = le.fit_transform(df['abbrev'])\n",
        "\n",
        "# Task 7: Classifying states into low, medium, and high number of car crashes\n",
        "bins = [0, 14, 17, float('inf')]\n",
        "labels = ['low', 'medium', 'high']\n",
        "df['total_bin'] = pd.cut(df['total'], bins=bins, labels=labels)\n",
        "\n",
        "X = df.drop(['total', 'total_bin'], axis=1)\n",
        "y = df['total_bin']\n",
        "\n",
        "# Split data into training and testing sets\n",
        "X_train, X_test, y_train, y_test = train_test_split(X, y, test_size=0.2, random_state=42)\n",
        "\n",
        "# Fit and predict using Decision Tree classifier\n",
        "dt = DecisionTreeClassifier(random_state=42)\n",
        "dt.fit(X_train, y_train)\n",
        "y_pred = dt.predict(X_test)\n",
        "\n",
        "# Calculate accuracy and F1 score\n",
        "accuracy = accuracy_score(y_test, y_pred)\n",
        "f1score = f1_score(y_test, y_pred, average='weighted')\n",
        "print(\"Accuracy:\", accuracy)\n",
        "print(\"F1 Score:\", f1score)\n",
        "\n",
        "# Plot countplot of total_bin\n",
        "sns.countplot(x=df['total_bin']).bar_label(sns.countplot(x=df['total_bin']).containers[0], label_type='edge'), plt.title(\"Countplot of states with low, medium and high total accidents\")\n",
        "plt.show()\n",
        "\n",
        "\n"
      ],
      "metadata": {
        "id": "WSLLLK8aoL6B",
        "colab": {
          "base_uri": "https://localhost:8080/",
          "height": 507
        },
        "outputId": "261e70b7-e459-414e-8e40-c3721c251895"
      },
      "execution_count": null,
      "outputs": [
        {
          "output_type": "stream",
          "name": "stdout",
          "text": [
            "Accuracy: 0.7272727272727273\n",
            "F1 Score: 0.7008264462809918\n"
          ]
        },
        {
          "output_type": "display_data",
          "data": {
            "text/plain": [
              "<Figure size 640x480 with 1 Axes>"
            ],
            "image/png": "[encoded data removed]"
          },
          "metadata": {}
        }
      ]
    },
    {
      "cell_type": "markdown",
      "source": [
        "<a name=\"hypothesis\"></a>\n",
        "## c) Hypothesis testing and results interpretation:\n",
        "\n",
        "### i) First, here are the questions from the assignment:\n",
        "\n",
        "    1. Research question: Which states have the highest and lowest number of drivers involved in fatal collisions per billion miles?\n",
        "        ◦ H0: The number of drivers involved in fatal collisions per billion miles is the same across all states.\n",
        "        ◦ H1: The number of drivers involved in fatal collisions per billion miles varies across states.\n",
        "    2. Research question: Is there a significant association between the number of fatal collisions caused by speeding and alcohol-impaired drivers?\n",
        "        ◦ H0: The number of fatal collisions caused by speeding and alcohol-impaired drivers are independent.\n",
        "        ◦ H1: There is a significant association between the number of fatal collisions caused by speeding and alcohol-impaired drivers.\n",
        "    3. Research question: Is there a significant difference in the amount paid by car owners for car insurance premiums between states with high and low numbers of fatal collisions caused by distracted driving?\n",
        "        ◦ H0: The amount paid by car owners for car insurance premiums is the same for states with high and low numbers of fatal collisions caused by distracted driving.\n",
        "        ◦ H1: There is a significant difference in the amount paid by car owners for car insurance premiums between states with high and low numbers of fatal collisions caused by distracted driving.\n",
        "    4. Research question: Are states with a high number of fatal collisions also associated with high insurance losses per insured driver?\n",
        "        ◦ H0: The number of fatal collisions and insurance losses per insured driver are independent.\n",
        "        ◦ H1: States with a high number of fatal collisions are associated with high insurance losses per insured driver.\n",
        "    5. Research question: Can we predict the number of fatal collisions caused by alcohol-impaired drivers based on the number of drivers involved in fatal collisions per billion miles?\n",
        "        ◦ H0: There is no significant relationship between the number of drivers involved in fatal collisions per billion miles and the number of fatal collisions caused by alcohol-impaired drivers.\n",
        "        ◦ H1: The number of drivers involved in fatal collisions per billion miles can predict the number of fatal collisions caused by alcohol-impaired drivers.\n",
        "    6. Research question: Which states have the highest and lowest number of fatal collisions caused by drivers who are not distracted?\n",
        "        ◦ H0: The number of fatal collisions caused by drivers who are not distracted is the same across all states.\n",
        "        ◦ H1: The number of fatal collisions caused by drivers who are not distracted varies across states.\n"
      ],
      "metadata": {
        "id": "vuY6hlmphksf"
      }
    },
    {
      "cell_type": "markdown",
      "source": [
        "**Remember** that not every tool is effective at solving every problem:\n",
        "\n",
        "*   **Hypothesis tests:** Typical tests: t-tests, ANOVA, and chi-square tests\n",
        "\n",
        "*   **Survival analysis:** none of the variables in this dataset are appropriate for survival analysis\n",
        "\n",
        "*   **Factor analysis or structural equation modeling**: none of the variables in this dataset are appropriate for factor analysis or structural equation modeling\n",
        "\n",
        "*   **Bayesian analysis:** any of the variables in this dataset can be used for Bayesian analysis, depending on the research question and modeling approach\n",
        "\n",
        "*   **Sensitivity analysis:** any of the variables in this dataset can be used for sensitivity analysis, depending on the research question and modeling approach"
      ],
      "metadata": {
        "id": "DLnv5yXbLztM"
      }
    },
    {
      "cell_type": "markdown",
      "source": [
        "\n",
        "### ii) Hypothesis Tests:\n",
        "\n",
        "1.   **One Sample T-Test:** A one sample t-test is used to determine whether a sample mean is statistically different from a known or hypothesized population mean.\n",
        "\n",
        "2.   **Two Sample T-Test:** A two sample t-test is used to determine whether the means of two independent groups are statistically different from each other.\n",
        "\n",
        "3.   **Paired T-Test:** A paired t-test is used to determine whether the means of two related groups are statistically different from each other.\n",
        "\n",
        "4.   **One-Way ANOVA:** A one-way ANOVA is used to test whether the means of three or more independent groups are statistically different from each other.\n",
        "\n",
        "5.   **Two-Way ANOVA:** A two-way ANOVA is used to test the effects of two independent variables on a dependent variable.\n",
        "\n",
        "6.   **Chi-Square Test of Independence:** A chi-square test of independence is used to determine whether there is a significant association between two categorical variables.\n",
        "\n",
        "7.   **Permutation Test:** A permutation test is a non-parametric test used to assess the significance of an ML or regression analysis model's performance. It involves randomly shuffling the labels of the response variable and computing the model's performance metric (e.g. accuracy or F1 score) on the shuffled data. This process is repeated multiple times to obtain a distribution of the model's performance under the null hypothesis that there is no relationship between the predictors and the response variable. The p-value is then computed as the proportion of times the observed performance metric is equal to or greater than the null distribution.\n",
        "\n",
        "8.   **Hypothesis Test based on the Binomial Distribution:** Test whether the accuracy of a classifier is significantly different from a specified threshold (e.g. 50% accuracy) in classifying states into low, medium, and high number of car crashes based on the other variables in the car_crashes dataset. The test involves computing the binomial probability of obtaining the observed number of correct predictions (or a more extreme value) given the number of trials (i.e. test samples) and the specified threshold. The p-value is then computed as the probability of observing a result as extreme or more extreme than the observed result. The accuracy and F1 score can be used as metrics for classification.\n",
        "\n",
        "9.   **McNemar's Test:** This statistical test used to evaluate the significance of differences between two models' performance on paired data. It involves constructing a contingency table of the misclassification counts for each model and computing the test statistic based on the difference between the two models' discordant pairs (i.e. cases where one model predicts correctly and the other does not). The null hypothesis is that the two models have the same misclassification rates. The p-value is then computed as the probability of observing the test statistic or a more extreme value under the null hypothesis.\n",
        "\n",
        "10.   **The DeLong Test:** The DeLong test is a widely accepted statistical test for comparing the area under the receiver operating characteristic (ROC) curves of two diagnostic tests.\n",
        "\n",
        "11.   **Wilcoxon signed-rank test:** The Wilcoxon signed-rank test is a nonparametric statistical test commonly used to determine whether two related samples have the same distribution or not. It is one of the nonparametric tests covered in the flow diagram of Chapter 2c: Inferential Statistics, which includes the Chi-Square test and some other tests of coefficients.\n",
        "\n",
        "12.   **Kolmogorov-Smirnov test (K-S test):** The K-S test is a statistical test used to compare two data sets and determine whether they follow the same distribution or not. This test has not been covered in the course yet."
      ],
      "metadata": {
        "id": "FDF8uPNqItLw"
      }
    },
    {
      "cell_type": "code",
      "source": [
        "#@title\n"
      ],
      "metadata": {
        "id": "5-zp3Yy_lqys",
        "cellView": "form"
      },
      "execution_count": null,
      "outputs": []
    },
    {
      "cell_type": "markdown",
      "source": [
        "## Interpreting hypothesis tests for car crashes"
      ],
      "metadata": {
        "id": "1stLz2WWTdGY"
      }
    },
    {
      "cell_type": "markdown",
      "source": [
        "Various research questions and corresponding hypotheses are realistic to the car crashes dataset.\n",
        "\n",
        "Null hypothesis: There is no significant difference in the total number of accidents between states that have banned texting while driving and states that have not banned texting while driving.\n",
        "\n",
        "Alternative hypothesis: There is a significant difference in the total number of accidents between states that have banned texting while driving and states that have not banned texting while driving."
      ],
      "metadata": {
        "id": "idvuIZ_OTZYU"
      }
    },
    {
      "cell_type": "markdown",
      "source": [
        "1.   **One Sample T-Test:** A one sample t-test is used to determine whether a sample mean is statistically different from a known or hypothesized population mean. This test can be used to test whether the average number of accidents in a given state is significantly different from the national average. **Another example:**\n",
        "\n",
        "    **Research Question:** Does the average number of drivers involved in fatal collisions per billion miles in a state differ significantly from the national average, indicating a need for intervention in particular states?\n",
        "\n",
        "    *   **H0**: The average number of drivers involved in fatal collisions per billion miles in a state is not significantly different from the national average.\n",
        "    *   **H1**: The average number of drivers involved in fatal collisions per billion miles in a state is significantly different from the national average.\n",
        "\n",
        "    **Solution**: Conduct a one-sample t-test on four states - the state with the lowest, highest, median, and closest to the national average fatal collisions per billion miles - to determine if there was a significant difference between the state's average and the national average."
      ],
      "metadata": {
        "id": "ikfU5AoOa-Jw"
      }
    },
    {
      "cell_type": "code",
      "source": [
        "# @title One Sample T-Test:\n",
        "import pandas as pd\n",
        "from scipy.stats import ttest_1samp\n",
        "\n",
        "# Load the dataset\n",
        "df = pd.read_csv('https://raw.githubusercontent.com/mwaskom/seaborn-data/master/car_crashes.csv')\n",
        "\n",
        "# Extract the \"total\" variable\n",
        "fatal_collisions = df['total']\n",
        "\n",
        "# Calculate the sample mean and standard deviation\n",
        "sample_mean = fatal_collisions.mean()\n",
        "sample_std = fatal_collisions.std()\n",
        "\n",
        "# Extract data for Iowa state (closest to national mean)\n",
        "ia_data = df[df['abbrev'] == 'IA']['total']\n",
        "\n",
        "# Calculate the sample mean and standard deviation for Iowa state\n",
        "ia_mean = ia_data.mean()\n",
        "ia_std = ia_data.std()\n",
        "\n",
        "# Calculate the one-sample t-test for Iowa state\n",
        "t_stat_ia, p_val_ia = ttest_1samp(fatal_collisions, ia_mean)\n",
        "\n",
        "# Find the minimum, median, and maximum values in the dataset\n",
        "min_val = fatal_collisions.min()\n",
        "med_val = fatal_collisions.median()\n",
        "max_val = fatal_collisions.max()\n",
        "\n",
        "# Calculate the one-sample t-test for the minimum value\n",
        "t_stat_min, p_val_min = ttest_1samp(fatal_collisions, min_val)\n",
        "\n",
        "# Calculate the one-sample t-test for the median value\n",
        "t_stat_med, p_val_med = ttest_1samp(fatal_collisions, med_val)\n",
        "\n",
        "# Calculate the one-sample t-test for the maximum value\n",
        "t_stat_max, p_val_max = ttest_1samp(fatal_collisions, max_val)\n",
        "\n",
        "# Print the results\n",
        "print(f\"Sample mean: {sample_mean:.2f}\")\n",
        "print(f\"Sample standard deviation: {sample_std:.2f}\")\n",
        "print(f\"\\nIowa state mean: {ia_mean:.2f}\")\n",
        "print(f\"Iowa state t-statistic: {t_stat_ia:.2f}\")\n",
        "print(f\"Iowa state p-value: {p_val_ia:.5f}\")\n",
        "print(f\"\\nMinimum value: {min_val:.2f}\")\n",
        "print(f\"Minimum value t-statistic: {t_stat_min:.2f}\")\n",
        "print(f\"Minimum value p-value: {p_val_min:.5f}\")\n",
        "print(f\"\\nMedian value: {med_val:.2f}\")\n",
        "print(f\"Median value t-statistic: {t_stat_med:.2f}\")\n",
        "print(f\"Median value p-value: {p_val_med:.5f}\")\n",
        "print(f\"\\nMaximum value: {max_val:.2f}\")\n",
        "print(f\"Maximum value t-statistic: {t_stat_max:.2f}\")\n",
        "print(f\"Maximum value p-value: {p_val_max:.5f}\")\n"
      ],
      "metadata": {
        "colab": {
          "base_uri": "https://localhost:8080/"
        },
        "id": "5UqRM-VPa7_k",
        "outputId": "0e0fe851-1020-4553-8369-592a5c42f102"
      },
      "execution_count": null,
      "outputs": [
        {
          "output_type": "stream",
          "name": "stdout",
          "text": [
            "Sample mean: 15.79\n",
            "Sample standard deviation: 4.12\n",
            "\n",
            "Iowa state mean: 15.70\n",
            "Iowa state t-statistic: 0.16\n",
            "Iowa state p-value: 0.87645\n",
            "\n",
            "Minimum value: 5.90\n",
            "Minimum value t-statistic: 17.13\n",
            "Minimum value p-value: 0.00000\n",
            "\n",
            "Median value: 15.60\n",
            "Median value t-statistic: 0.33\n",
            "Median value p-value: 0.74314\n",
            "\n",
            "Maximum value: 23.90\n",
            "Maximum value t-statistic: -14.05\n",
            "Maximum value p-value: 0.00000\n"
          ]
        }
      ]
    },
    {
      "cell_type": "markdown",
      "source": [
        "The sample mean of fatal collisions per billion miles driven is 15.79, with a sample standard deviation of 4.12.\n",
        "\n",
        "The Iowa state mean of fatal collisions per billion miles driven is 15.70, which is very close to the national mean. The calculated t-statistic for Iowa state is 0.16, and the corresponding p-value is 0.87645. This indicates that there is not enough evidence to reject the null hypothesis that the population mean of fatal collisions per billion miles driven in Iowa is equal to the national mean of 15.79.\n",
        "\n",
        "The minimum value of fatal collisions per billion miles driven is 5.90. The calculated t-statistic for the minimum value is 17.13, and the corresponding p-value is 0.00000. This provides strong evidence to reject the null hypothesis that the population mean of fatal collisions per billion miles driven in the state with the lowest number of fatal collisions is equal to the national mean of 15.79.\n",
        "\n",
        "The median value of fatal collisions per billion miles driven is 15.60. The calculated t-statistic for the median value is 0.33, and the corresponding p-value is 0.74314. This indicates that there is not enough evidence to reject the null hypothesis that the population mean of fatal collisions per billion miles driven in the state with the median number of fatal collisions is equal to the national mean of 15.79.\n",
        "\n",
        "The maximum value of fatal collisions per billion miles driven is 23.90. The calculated t-statistic for the maximum value is -14.05, and the corresponding p-value is 0.00000. This provides strong evidence to reject the null hypothesis that the population mean of fatal collisions per billion miles driven in the state with the highest number of fatal collisions is equal to the national mean of 15.79."
      ],
      "metadata": {
        "id": "k2ZvPslave7p"
      }
    },
    {
      "cell_type": "markdown",
      "source": [
        "2.   **Two Sample T-Test:** A two sample t-test is used to determine whether the means of two independent groups are statistically different from each other. This test can be used to test whether the average number of accidents in states with high levels of speeding is significantly different from the average number of accidents in states with low levels of speeding. **Another example:**\n",
        "\n",
        "Test whether the average number of fatal collisions caused by speeding is significantly different between states with high and low levels of speeding. (H0: mu_high_speeding = mu_low_speeding, H1: mu_high_speeding != mu_low_speeding)"
      ],
      "metadata": {
        "id": "Mi1kHNNCbUjT"
      }
    },
    {
      "cell_type": "markdown",
      "source": [
        "**Note:** `ttest_ind` assumes that the data are normally distributed and have equal variances, and it is typically used for continuous data. On the other hand, `mannwhitneyu` is a non-parametric test that does not assume normality or equal variances, and it can be used for both continuous and ordinal data.\n",
        "\n",
        "**Mann-Whitney U test** does not directly compare **medians**, it is often used as a test of median differences because the test is highly sensitive to differences in the center of the distribution."
      ],
      "metadata": {
        "id": "1nhjTVqwAPGc"
      }
    },
    {
      "cell_type": "code",
      "source": [
        "# @title Two Sample T-Test:\n",
        "import pandas as pd\n",
        "from scipy.stats import ttest_ind, mannwhitneyu\n",
        "\n",
        "# Load the car crashes dataset\n",
        "df = pd.read_csv('https://raw.githubusercontent.com/mwaskom/seaborn-data/master/car_crashes.csv')\n",
        "\n",
        "# Define the threshold for high and low levels of speeding\n",
        "speed_threshold = df['speeding'].median()\n",
        "\n",
        "# Subset the dataframe to create two new dataframes: one for high-speed states and one for low-speed states\n",
        "high_speed_states = df.loc[df['speeding'] > speed_threshold]['abbrev']\n",
        "low_speed_states = df.loc[df['speeding'] <= speed_threshold]['abbrev']\n",
        "high_speed_df = df.loc[df['abbrev'].isin(high_speed_states)]\n",
        "low_speed_df = df.loc[df['abbrev'].isin(low_speed_states)]\n",
        "\n",
        "# Extract the 'speeding' column from each dataframe to create two separate arrays of data\n",
        "high_speed_data = high_speed_df['speeding'].values\n",
        "low_speed_data = low_speed_df['speeding'].values\n",
        "\n",
        "# Calculate the mean and median of the 'speeding' column for high-speed and low-speed states\n",
        "high_speed_mean = high_speed_df['speeding'].mean()\n",
        "low_speed_mean = low_speed_df['speeding'].mean()\n",
        "high_speed_median = high_speed_df['speeding'].median()\n",
        "low_speed_median = low_speed_df['speeding'].median()\n",
        "\n",
        "print(f\"Mean speeding for high-speed states: {high_speed_mean:.2f}\")\n",
        "print(f\"Median speeding for high-speed states: {high_speed_median:.2f}\")\n",
        "print(f\"Mean speeding for low-speed states: {low_speed_mean:.2f}\")\n",
        "print(f\"Median speeding for low-speed states: {low_speed_median:.2f}\")\n",
        "\n",
        "# Use a two-sample t-test to determine whether the mean of the high-speed states and the mean of the low-speed states are significantly different.\n",
        "t_stat_mean, p_val_mean = ttest_ind(high_speed_data, low_speed_data, equal_var=False)\n",
        "print(f\"Mean t-statistic: {t_stat_mean:.2f}\")\n",
        "print(f\"Mean p-value: {p_val_mean:.5f}\")\n",
        "\n",
        "# Use a Mann-Whitney U test to determine whether the median of the high-speed states and the median of the low-speed states are significantly different.\n",
        "u_stat_median, p_val_median = mannwhitneyu(high_speed_data, low_speed_data, alternative='two-sided')\n",
        "print(f\"Median U-statistic: {u_stat_median:.2f}\")\n",
        "print(f\"Median p-value: {p_val_median:.5f}\")\n",
        "\n",
        "# display(df[['abbrev', 'total']].sort_values('total', ascending=False))\n"
      ],
      "metadata": {
        "id": "_HLB8UBcbcdc",
        "colab": {
          "base_uri": "https://localhost:8080/"
        },
        "outputId": "67e651e0-fabf-4681-8be5-6b6f83651824"
      },
      "execution_count": null,
      "outputs": [
        {
          "output_type": "stream",
          "name": "stdout",
          "text": [
            "Mean speeding for high-speed states: 6.66\n",
            "Median speeding for high-speed states: 6.51\n",
            "Mean speeding for low-speed states: 3.40\n",
            "Median speeding for low-speed states: 3.77\n",
            "Mean t-statistic: 9.72\n",
            "Mean p-value: 0.00000\n",
            "Median U-statistic: 650.00\n",
            "Median p-value: 0.00000\n"
          ]
        }
      ]
    },
    {
      "cell_type": "markdown",
      "source": [
        "A two-sample t-test was conducted to compare the mean speeds in high-speed states versus low-speed states. The mean speed in high-speed states is 6.66, which is substantially higher than the mean speed in low-speed states, which is 3.40. This is also reflected in the median speeds for each group, with a median of 6.51 for high-speed states and a median of 3.77 for low-speed states. The t-statistic is 9.72 and the p-value is 0.00000, indicating strong evidence to reject the null hypothesis that the mean speeds in the two groups are equal. The U-statistic, which is used for the median comparison, is 650.00 and the p-value is also 0.00000, further supporting the conclusion that there is a significant difference in median speeds between high-speed and low-speed states.\n",
        "\n",
        "However, the results are fairly obvious."
      ],
      "metadata": {
        "id": "V4nwNIC2IdDc"
      }
    },
    {
      "cell_type": "code",
      "source": [
        "# @title Two Sample T-Test New Research Question\n",
        "# Determine whether the average accident rates are significantly different between two groups consisting of three top speeding states vs middle or bottom speeding states\n",
        "\n",
        "import pandas as pd\n",
        "from scipy.stats import ttest_ind\n",
        "\n",
        "# Load the car crashes dataset\n",
        "df = pd.read_csv('https://raw.githubusercontent.com/mwaskom/seaborn-data/master/car_crashes.csv')\n",
        "\n",
        "# Divide the states into three groups: top three, bottom three, and middle\n",
        "top_states = df.nlargest(3, 'total')['abbrev'].tolist()\n",
        "bottom_states = df.nsmallest(3, 'total')['abbrev'].tolist()\n",
        "middle_states = df[~df['abbrev'].isin(top_states + bottom_states)]['abbrev'].tolist()\n",
        "\n",
        "# Get the accident rates for the top three states and the middle three states\n",
        "top_data = df.loc[df['abbrev'].isin(top_states)]['total']\n",
        "middle_data = df.loc[df['abbrev'].isin(middle_states)]['total']\n",
        "bottom_data = df.loc[df['abbrev'].isin(bottom_states)]['total']\n",
        "\n",
        "# Calculate the mean and standard deviation of the accident rates for each group\n",
        "top_mean = top_data.mean()\n",
        "middle_mean = middle_data.mean()\n",
        "bottom_mean = bottom_data.mean()\n",
        "top_std = top_data.std()\n",
        "middle_std = middle_data.std()\n",
        "bottom_std = bottom_data.std()\n",
        "\n",
        "print(f\"mean speeding for high-speed states: {top_mean:.2f}\")\n",
        "print(f\"mean speeding for middle-speed states: {middle_mean:.2f}\")\n",
        "print(f\"mean speeding for low-speed states: {bottom_mean:.2f}\")\n",
        "\n",
        "print(\"\\nTop speeding vs Middle speeding states\\n\")\n",
        "\n",
        "\n",
        "# Perform a two-sample t-test to determine whether the mean accident rates are significantly different between the top three states and the middle states\n",
        "t_stat, p_val = ttest_ind(top_data, middle_data, equal_var=False)\n",
        "print(f\"\\nt-statistic: {t_stat:.2f}\")\n",
        "print(f\"p-value: {p_val:.5f}\")\n",
        "\n",
        "# Use a Mann-Whitney U test to determine whether the median accident rates are significantly different between the top three states and the middle states\n",
        "u_stat_median, p_val_median = mannwhitneyu(top_data, middle_data, alternative='two-sided')\n",
        "print(f\"\\nMedian U-statistic: {u_stat_median:.2f}\")\n",
        "print(f\"Median p-value: {p_val_median:.5f}\")\n",
        "\n",
        "print(\"\\nTop speeding vs Bottom speeding states\\n\")\n",
        "\n",
        "# Perform a two-sample t-test to determine whether the mean accident rates are significantly different between the top three states and the bottom three states\n",
        "t_stat, p_val = ttest_ind(top_data, bottom_data, equal_var=False)\n",
        "print(f\"\\nt-statistic: {t_stat:.2f}\")\n",
        "print(f\"p-value: {p_val:.5f}\")\n",
        "\n",
        "# Use a Mann-Whitney U test to determine whether the median accident rates are significantly different between the top three states and the bottom three states\n",
        "u_stat_median, p_val_median = mannwhitneyu(top_data, bottom_data, alternative='two-sided')\n",
        "print(f\"\\nMedian U-statistic: {u_stat_median:.2f}\")\n",
        "print(f\"Median p-value: {p_val_median:.5f}\")\n"
      ],
      "metadata": {
        "colab": {
          "base_uri": "https://localhost:8080/"
        },
        "id": "IrVG4y4aGzl7",
        "outputId": "d175ccb4-0593-4868-f917-88eb8edf21ac"
      },
      "execution_count": null,
      "outputs": [
        {
          "output_type": "stream",
          "name": "stdout",
          "text": [
            "mean speeding for high-speed states: 23.87\n",
            "mean speeding for middle-speed states: 15.78\n",
            "mean speeding for low-speed states: 7.90\n",
            "\n",
            "Top speeding vs Middle speeding states\n",
            "\n",
            "\n",
            "t-statistic: 16.74\n",
            "p-value: 0.00000\n",
            "\n",
            "Median U-statistic: 135.00\n",
            "Median p-value: 0.00432\n",
            "\n",
            "Top speeding vs Bottom speeding states\n",
            "\n",
            "\n",
            "t-statistic: 14.80\n",
            "p-value: 0.00450\n",
            "\n",
            "Median U-statistic: 9.00\n",
            "Median p-value: 0.07652\n"
          ]
        }
      ]
    },
    {
      "cell_type": "markdown",
      "source": [
        "Comparing high-speed and low-speed states, the mean and median speeding rates are higher in high-speed states. The t-test shows a significant difference between the two groups with a t-statistic of 9.72 and a p-value of 0.00000. The median U-statistic is 650.00 and the median p-value is also 0.00000.\n",
        "\n",
        "Comparing top speeding states and middle-speed states, the top speeding states have a significantly higher speeding rate. The t-test shows a significant difference between the two groups with a t-statistic of 16.74 and a p-value of 0.00000. The median U-statistic is 135.00 and the median p-value is 0.00432.\n",
        "\n",
        "Comparing top speeding states and bottom speed states, the top speeding states have a significantly higher speeding rate. The t-test shows a significant difference between the two groups with a t-statistic of 14.80 and a p-value of 0.00450. The median U-statistic is 9.00 and the median p-value is 0.07652."
      ],
      "metadata": {
        "id": "j_fLHtLAI78o"
      }
    },
    {
      "cell_type": "markdown",
      "source": [
        "3.   **Paired T-Test:** A paired t-test is used to determine whether the means of two related groups are statistically different from each other. This test can be used to test whether the average number of accidents before and after a new road safety policy was implemented is significantly different. **Another example:**\n",
        "\n",
        "Test whether the average number of fatal collisions before and after a new road safety policy was implemented is significantly different. (H0: mu_before = mu_after, H1: mu_before != mu_after)"
      ],
      "metadata": {
        "id": "IOGhbAmJbhoF"
      }
    },
    {
      "cell_type": "code",
      "source": [
        "# @title Paired T-Test:\n",
        "\n",
        "import pandas as pd\n",
        "import numpy as np\n",
        "from scipy.stats import ttest_rel\n",
        "\n",
        "# Generate data for three states\n",
        "state1_before = np.random.normal(100, 10, size=50)\n",
        "state1_after = np.random.normal(80, 10, size=50)\n",
        "\n",
        "state2_before = np.random.normal(120, 15, size=50)\n",
        "state2_after = np.random.normal(120, 12, size=50)\n",
        "\n",
        "state3_before = np.random.normal(90, 6, size=50)\n",
        "state3_after = np.random.normal(89, 5, size=50)\n",
        "\n",
        "# Create a DataFrame with the data\n",
        "df = pd.DataFrame({\n",
        "    'State 1 Before': state1_before,\n",
        "    'State 1 After': state1_after,\n",
        "    'State 2 Before': state2_before,\n",
        "    'State 2 After': state2_after,\n",
        "    'State 3 Before': state3_before,\n",
        "    'State 3 After': state3_after\n",
        "})\n",
        "\n",
        "# Calculate the difference between before and after for each state\n",
        "df['State 1 Difference'] = df['State 1 After'] - df['State 1 Before']\n",
        "df['State 2 Difference'] = df['State 2 After'] - df['State 2 Before']\n",
        "df['State 3 Difference'] = df['State 3 After'] - df['State 3 Before']\n",
        "\n",
        "# Perform paired t-test for each state\n",
        "state1_t, state1_p = ttest_rel(df['State 1 After'], df['State 1 Before'])\n",
        "state2_t, state2_p = ttest_rel(df['State 2 After'], df['State 2 Before'])\n",
        "state3_t, state3_p = ttest_rel(df['State 3 After'], df['State 3 Before'])\n",
        "\n",
        "# Print the results\n",
        "print(\"State 1 t-statistic: {:.2f}, p-value: {:.2f}\".format(state1_t, state1_p))\n",
        "print(\"State 2 t-statistic: {:.2f}, p-value: {:.2f}\".format(state2_t, state2_p))\n",
        "print(\"State 3 t-statistic: {:.2f}, p-value: {:.2f}\".format(state3_t, state3_p))\n",
        "\n",
        "# Create a DataFrame to neatly display the results\n",
        "results_df = pd.DataFrame({\n",
        "    'State': ['State 1', 'State 2', 'State 3'],\n",
        "    'State Diff': [df['State 1 Difference'].mean(), df['State 2 Difference'].mean(), df['State 3 Difference'].mean()],\n",
        "    't-statistic': [state1_t, state2_t, state3_t],\n",
        "    'p-value': [state1_p, state2_p, state3_p]\n",
        "})\n",
        "\n",
        "# Display the results\n",
        "results_df\n"
      ],
      "metadata": {
        "colab": {
          "base_uri": "https://localhost:8080/",
          "height": 195
        },
        "id": "2eqK3FGbbhoG",
        "outputId": "8f689035-b527-47f1-f319-43c214398245"
      },
      "execution_count": null,
      "outputs": [
        {
          "output_type": "stream",
          "name": "stdout",
          "text": [
            "State 1 t-statistic: -11.69, p-value: 0.00\n",
            "State 2 t-statistic: -1.70, p-value: 0.10\n",
            "State 3 t-statistic: -1.96, p-value: 0.06\n"
          ]
        },
        {
          "output_type": "execute_result",
          "data": {
            "text/plain": [
              "     State  State Diff  t-statistic       p-value\n",
              "0  State 1  -22.129405   -11.691661  8.756889e-16\n",
              "1  State 2   -4.652428    -1.696682  9.610141e-02\n",
              "2  State 3   -1.915916    -1.955500  5.623919e-02"
            ],
            "text/html": [
              "\n",
              "  <div id=\"df-7dca643c-8b91-40ba-be73-974fdaae95b9\">\n",
              "    <div class=\"colab-df-container\">\n",
              "      <div>\n",
              "<style scoped>\n",
              "    .dataframe tbody tr th:only-of-type {\n",
              "        vertical-align: middle;\n",
              "    }\n",
              "\n",
              "    .dataframe tbody tr th {\n",
              "        vertical-align: top;\n",
              "    }\n",
              "\n",
              "    .dataframe thead th {\n",
              "        text-align: right;\n",
              "    }\n",
              "</style>\n",
              "<table border=\"1\" class=\"dataframe\">\n",
              "  <thead>\n",
              "    <tr style=\"text-align: right;\">\n",
              "      <th></th>\n",
              "      <th>State</th>\n",
              "      <th>State Diff</th>\n",
              "      <th>t-statistic</th>\n",
              "      <th>p-value</th>\n",
              "    </tr>\n",
              "  </thead>\n",
              "  <tbody>\n",
              "    <tr>\n",
              "      <th>0</th>\n",
              "      <td>State 1</td>\n",
              "      <td>-22.129405</td>\n",
              "      <td>-11.691661</td>\n",
              "      <td>8.756889e-16</td>\n",
              "    </tr>\n",
              "    <tr>\n",
              "      <th>1</th>\n",
              "      <td>State 2</td>\n",
              "      <td>-4.652428</td>\n",
              "      <td>-1.696682</td>\n",
              "      <td>9.610141e-02</td>\n",
              "    </tr>\n",
              "    <tr>\n",
              "      <th>2</th>\n",
              "      <td>State 3</td>\n",
              "      <td>-1.915916</td>\n",
              "      <td>-1.955500</td>\n",
              "      <td>5.623919e-02</td>\n",
              "    </tr>\n",
              "  </tbody>\n",
              "</table>\n",
              "</div>\n",
              "      <button class=\"colab-df-convert\" onclick=\"convertToInteractive('df-7dca643c-8b91-40ba-be73-974fdaae95b9')\"\n",
              "              title=\"Convert this dataframe to an interactive table.\"\n",
              "              style=\"display:none;\">\n",
              "        \n",
              "  <svg xmlns=\"http://www.w3.org/2000/svg\" height=\"24px\"viewBox=\"0 0 24 24\"\n",
              "       width=\"24px\">\n",
              "    <path d=\"M0 0h24v24H0V0z\" fill=\"none\"/>\n",
              "    <path d=\"M18.56 5.44l.94 2.06.94-2.06 2.06-.94-2.06-.94-.94-2.06-.94 2.06-2.06.94zm-11 1L8.5 8.5l.94-2.06 2.06-.94-2.06-.94L8.5 2.5l-.94 2.06-2.06.94zm10 10l.94 2.06.94-2.06 2.06-.94-2.06-.94-.94-2.06-.94 2.06-2.06.94z\"/><path d=\"M17.41 7.96l-1.37-1.37c-.4-.4-.92-.59-1.43-.59-.52 0-1.04.2-1.43.59L10.3 9.45l-7.72 7.72c-.78.78-.78 2.05 0 2.83L4 21.41c.39.39.9.59 1.41.59.51 0 1.02-.2 1.41-.59l7.78-7.78 2.81-2.81c.8-.78.8-2.07 0-2.86zM5.41 20L4 18.59l7.72-7.72 1.47 1.35L5.41 20z\"/>\n",
              "  </svg>\n",
              "      </button>\n",
              "      \n",
              "  <style>\n",
              "    .colab-df-container {\n",
              "      display:flex;\n",
              "      flex-wrap:wrap;\n",
              "      gap: 12px;\n",
              "    }\n",
              "\n",
              "    .colab-df-convert {\n",
              "      background-color: #E8F0FE;\n",
              "      border: none;\n",
              "      border-radius: 50%;\n",
              "      cursor: pointer;\n",
              "      display: none;\n",
              "      fill: #1967D2;\n",
              "      height: 32px;\n",
              "      padding: 0 0 0 0;\n",
              "      width: 32px;\n",
              "    }\n",
              "\n",
              "    .colab-df-convert:hover {\n",
              "      background-color: #E2EBFA;\n",
              "      box-shadow: 0px 1px 2px rgba(60, 64, 67, 0.3), 0px 1px 3px 1px rgba(60, 64, 67, 0.15);\n",
              "      fill: #174EA6;\n",
              "    }\n",
              "\n",
              "    [theme=dark] .colab-df-convert {\n",
              "      background-color: #3B4455;\n",
              "      fill: #D2E3FC;\n",
              "    }\n",
              "\n",
              "    [theme=dark] .colab-df-convert:hover {\n",
              "      background-color: #434B5C;\n",
              "      box-shadow: 0px 1px 3px 1px rgba(0, 0, 0, 0.15);\n",
              "      filter: drop-shadow(0px 1px 2px rgba(0, 0, 0, 0.3));\n",
              "      fill: #FFFFFF;\n",
              "    }\n",
              "  </style>\n",
              "\n",
              "      <script>\n",
              "        const buttonEl =\n",
              "          document.querySelector('#df-7dca643c-8b91-40ba-be73-974fdaae95b9 button.colab-df-convert');\n",
              "        buttonEl.style.display =\n",
              "          google.colab.kernel.accessAllowed ? 'block' : 'none';\n",
              "\n",
              "        async function convertToInteractive(key) {\n",
              "          const element = document.querySelector('#df-7dca643c-8b91-40ba-be73-974fdaae95b9');\n",
              "          const dataTable =\n",
              "            await google.colab.kernel.invokeFunction('convertToInteractive',\n",
              "                                                     [key], {});\n",
              "          if (!dataTable) return;\n",
              "\n",
              "          const docLinkHtml = 'Like what you see? Visit the ' +\n",
              "            '<a target=\"_blank\" href=https://colab.research.google.com/notebooks/data_table.ipynb>data table notebook</a>'\n",
              "            + ' to learn more about interactive tables.';\n",
              "          element.innerHTML = '';\n",
              "          dataTable['output_type'] = 'display_data';\n",
              "          await google.colab.output.renderOutput(dataTable, element);\n",
              "          const docLink = document.createElement('div');\n",
              "          docLink.innerHTML = docLinkHtml;\n",
              "          element.appendChild(docLink);\n",
              "        }\n",
              "      </script>\n",
              "    </div>\n",
              "  </div>\n",
              "  "
            ]
          },
          "metadata": {},
          "execution_count": 14
        }
      ]
    },
    {
      "cell_type": "markdown",
      "source": [
        "State 1 has a t-statistic of -9.79 and a p-value of 0.00, which indicates that there is a significant difference between the average number of fatal collisions before and after the policy was implemented in this state.\n",
        "\n",
        "State 2 has a t-statistic of -0.23 and a p-value of 0.82, which indicates that there is no significant difference between the average number of fatal collisions before and after the policy was implemented in this state.\n",
        "\n",
        "State 3 has a t-statistic of -1.25 and a p-value of 0.22, which indicates that there is no significant difference between the average number of fatal collisions before and after the policy was implemented in this state."
      ],
      "metadata": {
        "id": "zoTs6gqeJPCA"
      }
    },
    {
      "cell_type": "markdown",
      "source": [
        "4.   **One-Way ANOVA:** A one-way ANOVA is used to test whether the means of three or more independent groups are statistically different from each other. This test can be used to test whether the average number of accidents in states with low, medium, and high ins_premium is significantly different from each other.\n",
        "\n",
        "**Example:**\n",
        "\n",
        "Test whether the average number of drivers involved in fatal collisions per billion miles is significantly different between states with low, medium, and high insurance premiums. (H0: mu_low = mu_medium = mu_high, H1: at least one mu is different)"
      ],
      "metadata": {
        "id": "l-AHQqtAbzKF"
      }
    },
    {
      "cell_type": "code",
      "source": [
        "# @title One-Way ANOVA:\n",
        "import pandas as pd\n",
        "import scipy.stats as stats\n",
        "\n",
        "# Load the car_crashes dataset\n",
        "df = pd.read_csv('https://raw.githubusercontent.com/mwaskom/seaborn-data/master/car_crashes.csv')\n",
        "\n",
        "# Create a new column with insurance premium category based on quartiles\n",
        "df['premium'] = pd.qcut(df['ins_premium'], q=3, labels=['low', 'medium', 'high'])\n",
        "\n",
        "# Calculate the group means and standard deviations\n",
        "group_stats = df.groupby('premium')['total'].agg(['mean', 'std'])\n",
        "\n",
        "# Perform one-way ANOVA test\n",
        "f_statistic, p_value = stats.f_oneway(df[df['premium'] == 'low']['total'],\n",
        "                                      df[df['premium'] == 'medium']['total'],\n",
        "                                      df[df['premium'] == 'high']['total'])\n",
        "\n",
        "display(group_stats)\n",
        "# Print the results\n",
        "print(\"F-statistic: {:.2f}, p-value: {:.2f}\".format(f_statistic, p_value))\n",
        "\n"
      ],
      "metadata": {
        "colab": {
          "base_uri": "https://localhost:8080/",
          "height": 192
        },
        "id": "b1Nut4mfbzKG",
        "outputId": "8633ca6c-d21d-4849-a263-17193e20f1db"
      },
      "execution_count": null,
      "outputs": [
        {
          "output_type": "display_data",
          "data": {
            "text/plain": [
              "              mean       std\n",
              "premium                     \n",
              "low      15.711765  3.416848\n",
              "medium   16.923529  4.147217\n",
              "high     14.735294  4.654963"
            ],
            "text/html": [
              "\n",
              "  <div id=\"df-2ff98897-c9fc-40d7-bb3c-8bf943106324\">\n",
              "    <div class=\"colab-df-container\">\n",
              "      <div>\n",
              "<style scoped>\n",
              "    .dataframe tbody tr th:only-of-type {\n",
              "        vertical-align: middle;\n",
              "    }\n",
              "\n",
              "    .dataframe tbody tr th {\n",
              "        vertical-align: top;\n",
              "    }\n",
              "\n",
              "    .dataframe thead th {\n",
              "        text-align: right;\n",
              "    }\n",
              "</style>\n",
              "<table border=\"1\" class=\"dataframe\">\n",
              "  <thead>\n",
              "    <tr style=\"text-align: right;\">\n",
              "      <th></th>\n",
              "      <th>mean</th>\n",
              "      <th>std</th>\n",
              "    </tr>\n",
              "    <tr>\n",
              "      <th>premium</th>\n",
              "      <th></th>\n",
              "      <th></th>\n",
              "    </tr>\n",
              "  </thead>\n",
              "  <tbody>\n",
              "    <tr>\n",
              "      <th>low</th>\n",
              "      <td>15.711765</td>\n",
              "      <td>3.416848</td>\n",
              "    </tr>\n",
              "    <tr>\n",
              "      <th>medium</th>\n",
              "      <td>16.923529</td>\n",
              "      <td>4.147217</td>\n",
              "    </tr>\n",
              "    <tr>\n",
              "      <th>high</th>\n",
              "      <td>14.735294</td>\n",
              "      <td>4.654963</td>\n",
              "    </tr>\n",
              "  </tbody>\n",
              "</table>\n",
              "</div>\n",
              "      <button class=\"colab-df-convert\" onclick=\"convertToInteractive('df-2ff98897-c9fc-40d7-bb3c-8bf943106324')\"\n",
              "              title=\"Convert this dataframe to an interactive table.\"\n",
              "              style=\"display:none;\">\n",
              "        \n",
              "  <svg xmlns=\"http://www.w3.org/2000/svg\" height=\"24px\"viewBox=\"0 0 24 24\"\n",
              "       width=\"24px\">\n",
              "    <path d=\"M0 0h24v24H0V0z\" fill=\"none\"/>\n",
              "    <path d=\"M18.56 5.44l.94 2.06.94-2.06 2.06-.94-2.06-.94-.94-2.06-.94 2.06-2.06.94zm-11 1L8.5 8.5l.94-2.06 2.06-.94-2.06-.94L8.5 2.5l-.94 2.06-2.06.94zm10 10l.94 2.06.94-2.06 2.06-.94-2.06-.94-.94-2.06-.94 2.06-2.06.94z\"/><path d=\"M17.41 7.96l-1.37-1.37c-.4-.4-.92-.59-1.43-.59-.52 0-1.04.2-1.43.59L10.3 9.45l-7.72 7.72c-.78.78-.78 2.05 0 2.83L4 21.41c.39.39.9.59 1.41.59.51 0 1.02-.2 1.41-.59l7.78-7.78 2.81-2.81c.8-.78.8-2.07 0-2.86zM5.41 20L4 18.59l7.72-7.72 1.47 1.35L5.41 20z\"/>\n",
              "  </svg>\n",
              "      </button>\n",
              "      \n",
              "  <style>\n",
              "    .colab-df-container {\n",
              "      display:flex;\n",
              "      flex-wrap:wrap;\n",
              "      gap: 12px;\n",
              "    }\n",
              "\n",
              "    .colab-df-convert {\n",
              "      background-color: #E8F0FE;\n",
              "      border: none;\n",
              "      border-radius: 50%;\n",
              "      cursor: pointer;\n",
              "      display: none;\n",
              "      fill: #1967D2;\n",
              "      height: 32px;\n",
              "      padding: 0 0 0 0;\n",
              "      width: 32px;\n",
              "    }\n",
              "\n",
              "    .colab-df-convert:hover {\n",
              "      background-color: #E2EBFA;\n",
              "      box-shadow: 0px 1px 2px rgba(60, 64, 67, 0.3), 0px 1px 3px 1px rgba(60, 64, 67, 0.15);\n",
              "      fill: #174EA6;\n",
              "    }\n",
              "\n",
              "    [theme=dark] .colab-df-convert {\n",
              "      background-color: #3B4455;\n",
              "      fill: #D2E3FC;\n",
              "    }\n",
              "\n",
              "    [theme=dark] .colab-df-convert:hover {\n",
              "      background-color: #434B5C;\n",
              "      box-shadow: 0px 1px 3px 1px rgba(0, 0, 0, 0.15);\n",
              "      filter: drop-shadow(0px 1px 2px rgba(0, 0, 0, 0.3));\n",
              "      fill: #FFFFFF;\n",
              "    }\n",
              "  </style>\n",
              "\n",
              "      <script>\n",
              "        const buttonEl =\n",
              "          document.querySelector('#df-2ff98897-c9fc-40d7-bb3c-8bf943106324 button.colab-df-convert');\n",
              "        buttonEl.style.display =\n",
              "          google.colab.kernel.accessAllowed ? 'block' : 'none';\n",
              "\n",
              "        async function convertToInteractive(key) {\n",
              "          const element = document.querySelector('#df-2ff98897-c9fc-40d7-bb3c-8bf943106324');\n",
              "          const dataTable =\n",
              "            await google.colab.kernel.invokeFunction('convertToInteractive',\n",
              "                                                     [key], {});\n",
              "          if (!dataTable) return;\n",
              "\n",
              "          const docLinkHtml = 'Like what you see? Visit the ' +\n",
              "            '<a target=\"_blank\" href=https://colab.research.google.com/notebooks/data_table.ipynb>data table notebook</a>'\n",
              "            + ' to learn more about interactive tables.';\n",
              "          element.innerHTML = '';\n",
              "          dataTable['output_type'] = 'display_data';\n",
              "          await google.colab.output.renderOutput(dataTable, element);\n",
              "          const docLink = document.createElement('div');\n",
              "          docLink.innerHTML = docLinkHtml;\n",
              "          element.appendChild(docLink);\n",
              "        }\n",
              "      </script>\n",
              "    </div>\n",
              "  </div>\n",
              "  "
            ]
          },
          "metadata": {}
        },
        {
          "output_type": "stream",
          "name": "stdout",
          "text": [
            "F-statistic: 1.21, p-value: 0.31\n"
          ]
        }
      ]
    },
    {
      "cell_type": "markdown",
      "source": [
        "p-value: 0.31, which is not statistically significant at alpha level of 0.05. Therefore, there is not enough evidence to reject the null hypothesis and conclude that there is a significant difference in means of the three groups."
      ],
      "metadata": {
        "id": "uEkRehixJs0J"
      }
    },
    {
      "cell_type": "markdown",
      "source": [
        "5.   **Two-Way ANOVA:** A two-way ANOVA is used to test the effects of two independent variables on a dependent variable. This test can be used to test whether the interaction between speeding and alcohol levels significantly affects the average number of accidents in different states. **Another example:**\n",
        "\n",
        "Test whether the interaction between speeding and alcohol-impaired drivers significantly affects the average number of fatal collisions in different states. (H0: no interaction, H1: interaction exists)"
      ],
      "metadata": {
        "id": "BGxnB2XEcAVq"
      }
    },
    {
      "cell_type": "code",
      "source": [
        "# @title Two-Way ANOVA:\n",
        "\n",
        "import pandas as pd\n",
        "import statsmodels.api as sm\n",
        "from statsmodels.formula.api import ols\n",
        "\n",
        "# Load the car crashes dataset\n",
        "df = pd.read_csv('https://raw.githubusercontent.com/mwaskom/seaborn-data/master/car_crashes.csv')\n",
        "\n",
        "# Bin the continuous variables into categories with equal width\n",
        "df['speeding_bins'] = pd.cut(df['speeding'], bins=3, labels=['low', 'medium', 'high'])\n",
        "df['alcohol_bins'] = pd.cut(df['alcohol'], bins=3, labels=['low', 'medium', 'high'])\n",
        "\n",
        "# Fit a two-way ANOVA model\n",
        "model = ols('total ~ C(speeding_bins) * C(alcohol_bins)', data=df).fit()\n",
        "anova_table = sm.stats.anova_lm(model, typ=2)\n",
        "\n",
        "# Print the ANOVA table\n",
        "anova_table\n"
      ],
      "metadata": {
        "colab": {
          "base_uri": "https://localhost:8080/",
          "height": 229
        },
        "id": "KLg7hg2McAVr",
        "outputId": "6d6bccce-623d-4e97-ddda-9263d6dddd25"
      },
      "execution_count": null,
      "outputs": [
        {
          "output_type": "stream",
          "name": "stderr",
          "text": [
            "/usr/local/lib/python3.9/dist-packages/statsmodels/base/model.py:1871: ValueWarning: covariance of constraints does not have full rank. The number of constraints is 2, but rank is 1\n",
            "  warnings.warn('covariance of constraints does not have full '\n"
          ]
        },
        {
          "output_type": "execute_result",
          "data": {
            "text/plain": [
              "                                      sum_sq    df          F        PR(>F)\n",
              "C(speeding_bins)                    8.331719   2.0   0.648085  4.251270e-01\n",
              "C(alcohol_bins)                   213.059573   2.0  16.572907  4.316054e-06\n",
              "C(speeding_bins):C(alcohol_bins)  353.275634   4.0  13.739829  2.382782e-07\n",
              "Residual                          282.829722  44.0        NaN           NaN"
            ],
            "text/html": [
              "\n",
              "  <div id=\"df-2d80b3fa-5e3a-4483-a2ad-41beffd2ccf8\">\n",
              "    <div class=\"colab-df-container\">\n",
              "      <div>\n",
              "<style scoped>\n",
              "    .dataframe tbody tr th:only-of-type {\n",
              "        vertical-align: middle;\n",
              "    }\n",
              "\n",
              "    .dataframe tbody tr th {\n",
              "        vertical-align: top;\n",
              "    }\n",
              "\n",
              "    .dataframe thead th {\n",
              "        text-align: right;\n",
              "    }\n",
              "</style>\n",
              "<table border=\"1\" class=\"dataframe\">\n",
              "  <thead>\n",
              "    <tr style=\"text-align: right;\">\n",
              "      <th></th>\n",
              "      <th>sum_sq</th>\n",
              "      <th>df</th>\n",
              "      <th>F</th>\n",
              "      <th>PR(&gt;F)</th>\n",
              "    </tr>\n",
              "  </thead>\n",
              "  <tbody>\n",
              "    <tr>\n",
              "      <th>C(speeding_bins)</th>\n",
              "      <td>8.331719</td>\n",
              "      <td>2.0</td>\n",
              "      <td>0.648085</td>\n",
              "      <td>4.251270e-01</td>\n",
              "    </tr>\n",
              "    <tr>\n",
              "      <th>C(alcohol_bins)</th>\n",
              "      <td>213.059573</td>\n",
              "      <td>2.0</td>\n",
              "      <td>16.572907</td>\n",
              "      <td>4.316054e-06</td>\n",
              "    </tr>\n",
              "    <tr>\n",
              "      <th>C(speeding_bins):C(alcohol_bins)</th>\n",
              "      <td>353.275634</td>\n",
              "      <td>4.0</td>\n",
              "      <td>13.739829</td>\n",
              "      <td>2.382782e-07</td>\n",
              "    </tr>\n",
              "    <tr>\n",
              "      <th>Residual</th>\n",
              "      <td>282.829722</td>\n",
              "      <td>44.0</td>\n",
              "      <td>NaN</td>\n",
              "      <td>NaN</td>\n",
              "    </tr>\n",
              "  </tbody>\n",
              "</table>\n",
              "</div>\n",
              "      <button class=\"colab-df-convert\" onclick=\"convertToInteractive('df-2d80b3fa-5e3a-4483-a2ad-41beffd2ccf8')\"\n",
              "              title=\"Convert this dataframe to an interactive table.\"\n",
              "              style=\"display:none;\">\n",
              "        \n",
              "  <svg xmlns=\"http://www.w3.org/2000/svg\" height=\"24px\"viewBox=\"0 0 24 24\"\n",
              "       width=\"24px\">\n",
              "    <path d=\"M0 0h24v24H0V0z\" fill=\"none\"/>\n",
              "    <path d=\"M18.56 5.44l.94 2.06.94-2.06 2.06-.94-2.06-.94-.94-2.06-.94 2.06-2.06.94zm-11 1L8.5 8.5l.94-2.06 2.06-.94-2.06-.94L8.5 2.5l-.94 2.06-2.06.94zm10 10l.94 2.06.94-2.06 2.06-.94-2.06-.94-.94-2.06-.94 2.06-2.06.94z\"/><path d=\"M17.41 7.96l-1.37-1.37c-.4-.4-.92-.59-1.43-.59-.52 0-1.04.2-1.43.59L10.3 9.45l-7.72 7.72c-.78.78-.78 2.05 0 2.83L4 21.41c.39.39.9.59 1.41.59.51 0 1.02-.2 1.41-.59l7.78-7.78 2.81-2.81c.8-.78.8-2.07 0-2.86zM5.41 20L4 18.59l7.72-7.72 1.47 1.35L5.41 20z\"/>\n",
              "  </svg>\n",
              "      </button>\n",
              "      \n",
              "  <style>\n",
              "    .colab-df-container {\n",
              "      display:flex;\n",
              "      flex-wrap:wrap;\n",
              "      gap: 12px;\n",
              "    }\n",
              "\n",
              "    .colab-df-convert {\n",
              "      background-color: #E8F0FE;\n",
              "      border: none;\n",
              "      border-radius: 50%;\n",
              "      cursor: pointer;\n",
              "      display: none;\n",
              "      fill: #1967D2;\n",
              "      height: 32px;\n",
              "      padding: 0 0 0 0;\n",
              "      width: 32px;\n",
              "    }\n",
              "\n",
              "    .colab-df-convert:hover {\n",
              "      background-color: #E2EBFA;\n",
              "      box-shadow: 0px 1px 2px rgba(60, 64, 67, 0.3), 0px 1px 3px 1px rgba(60, 64, 67, 0.15);\n",
              "      fill: #174EA6;\n",
              "    }\n",
              "\n",
              "    [theme=dark] .colab-df-convert {\n",
              "      background-color: #3B4455;\n",
              "      fill: #D2E3FC;\n",
              "    }\n",
              "\n",
              "    [theme=dark] .colab-df-convert:hover {\n",
              "      background-color: #434B5C;\n",
              "      box-shadow: 0px 1px 3px 1px rgba(0, 0, 0, 0.15);\n",
              "      filter: drop-shadow(0px 1px 2px rgba(0, 0, 0, 0.3));\n",
              "      fill: #FFFFFF;\n",
              "    }\n",
              "  </style>\n",
              "\n",
              "      <script>\n",
              "        const buttonEl =\n",
              "          document.querySelector('#df-2d80b3fa-5e3a-4483-a2ad-41beffd2ccf8 button.colab-df-convert');\n",
              "        buttonEl.style.display =\n",
              "          google.colab.kernel.accessAllowed ? 'block' : 'none';\n",
              "\n",
              "        async function convertToInteractive(key) {\n",
              "          const element = document.querySelector('#df-2d80b3fa-5e3a-4483-a2ad-41beffd2ccf8');\n",
              "          const dataTable =\n",
              "            await google.colab.kernel.invokeFunction('convertToInteractive',\n",
              "                                                     [key], {});\n",
              "          if (!dataTable) return;\n",
              "\n",
              "          const docLinkHtml = 'Like what you see? Visit the ' +\n",
              "            '<a target=\"_blank\" href=https://colab.research.google.com/notebooks/data_table.ipynb>data table notebook</a>'\n",
              "            + ' to learn more about interactive tables.';\n",
              "          element.innerHTML = '';\n",
              "          dataTable['output_type'] = 'display_data';\n",
              "          await google.colab.output.renderOutput(dataTable, element);\n",
              "          const docLink = document.createElement('div');\n",
              "          docLink.innerHTML = docLinkHtml;\n",
              "          element.appendChild(docLink);\n",
              "        }\n",
              "      </script>\n",
              "    </div>\n",
              "  </div>\n",
              "  "
            ]
          },
          "metadata": {},
          "execution_count": 16
        }
      ]
    },
    {
      "cell_type": "markdown",
      "source": [
        "Regression is used to estimate the relationship between a dependent variable and one or more independent variables. It helps to understand how much variability in the dependent variable can be explained by the independent variable(s). ANOVA, on the other hand, is used to test for the significance of the differences between the means of two or more groups.\n",
        "\n",
        "*   **'C(speeding_bins)':** The main effect of 'speeding_bins' is not statistically significant with a p-value of 0.425, indicating that there is no significant difference in the mean values of the dependent variable across different levels of 'speeding_bins'.\n",
        "*   **'C(alcohol_bins)':** The main effect of 'alcohol_bins' is statistically significant with a very small p-value of 4.316054e-06, indicating that there is a significant difference in the mean values of the dependent variable across different levels of 'alcohol_bins'.\n",
        "*   **'C(speeding_bins):C(alcohol_bins)':** The interaction effect between 'speeding_bins' and 'alcohol_bins' is statistically significant with a very small p-value of 2.382782e-07, indicating that the effect of one factor on the dependent variable varies across the levels of the other factor.\n",
        "*   **'Residual':** The residual source of variation has a NaN F-statistic and p-value, indicating that it is not informative for our analysis. This can occur when the sample size is small or when there is a high degree of correlation between the dependent variable and the independent variables. In such cases, the power of the statistical test to detect an effect may be limited.\n",
        "\n",
        "**Summary:**\n",
        "\n",
        "The ANOVA results suggest that alcohol consumption has a significant effect on the number of car crashes, while speeding does not. Additionally, the interaction between alcohol consumption and speeding has a significant effect on car crashes. Finally, the effect of speeding on the number of total car crashes varies depending on the level of alcohol consumption."
      ],
      "metadata": {
        "id": "O7EyWLaxgd4h"
      }
    },
    {
      "cell_type": "markdown",
      "source": [
        "6.   **Chi-Square Test of Independence:** A chi-square test of independence is used to determine whether there is a significant association between two categorical variables. This test can be used to test whether there is a significant association between the type of day (weekday or weekend) and the average number of accidents in different states. **Another example:**\n",
        "\n",
        "Test whether there is a significant association between the type of distraction (distracted or not distracted) and the average number of fatal collisions in different states. (H0: no association, H1: association exists)"
      ],
      "metadata": {
        "id": "AEiNdV4WcKH5"
      }
    },
    {
      "cell_type": "code",
      "source": [
        "# @title Chi-Square Test of Independence:\n",
        "\n",
        "import pandas as pd\n",
        "import numpy as np\n",
        "from scipy.stats import chi2_contingency\n",
        "\n",
        "# Load the car crashes dataset\n",
        "df = pd.read_csv('https://raw.githubusercontent.com/mwaskom/seaborn-data/master/car_crashes.csv')\n",
        "\n",
        "# Bin the 'not_distracted' and 'distracted' columns\n",
        "df['not_distracted_bins'] = pd.qcut(df['not_distracted'], q=3, labels=['low', 'medium', 'high'])\n",
        "df['distracted_bins'] = pd.qcut(df['total'] - df['not_distracted'], q=3, labels=['low', 'medium', 'high'])\n",
        "\n",
        "# However, note how bins impact results and it should reflect the real world\n",
        "# df['not_distracted_bins'] = pd.cut(df['not_distracted'], bins=3, labels=['low', 'medium', 'high'])\n",
        "# df['distracted_bins'] = pd.cut(df['total'] - df['not_distracted'], bins=3, labels=['low', 'medium', 'high'])\n",
        "\n",
        "# Create a contingency table\n",
        "contingency_table = pd.crosstab(df['not_distracted_bins'], df['distracted_bins'])\n",
        "\n",
        "# Perform the Chi-Square Test of Independence\n",
        "chi2, pval, dof, expected = chi2_contingency(contingency_table)\n",
        "print(f\"Chi-Square: {chi2:.2f}, p-value: {pval:.4f}\")"
      ],
      "metadata": {
        "colab": {
          "base_uri": "https://localhost:8080/"
        },
        "id": "EEQ_0byAcKH6",
        "outputId": "121a8af2-a7da-4e98-e1d2-b89fae524bf8"
      },
      "execution_count": null,
      "outputs": [
        {
          "output_type": "stream",
          "name": "stdout",
          "text": [
            "Chi-Square: 10.94, p-value: 0.0272\n"
          ]
        }
      ]
    },
    {
      "cell_type": "markdown",
      "source": [
        "A chi-square test of independence was used to test whether there is a significant association between the type of distraction (distracted or not distracted) and the average number of fatal collisions in different states.\n",
        "\n",
        "The difference between **cut** and **qcut** is that cut creates bins based on the actual values of the data, while qcut creates bins based on the quantiles of the data. This can lead to different bin widths and potentially different results in the analysis.\n",
        "\n",
        "The Chi-Square value of 10.94 and the associated p-value of 0.0272 suggest that there is a significant association between the type of distraction (distracted or not distracted) and the average number of fatal collisions in different states."
      ],
      "metadata": {
        "id": "0sQ0o6o7nVrK"
      }
    },
    {
      "cell_type": "markdown",
      "source": [
        "7.   **Permutation Test:** A permutation test is a non-parametric test used to assess the significance of an ML or regression analysis model's performance. It involves randomly shuffling the labels of the response variable and computing the model's performance metric (e.g. accuracy or F1 score) on the shuffled data. This process is repeated multiple times to obtain a distribution of the model's performance under the null hypothesis that there is no relationship between the predictors and the response variable. The p-value is then computed as the proportion of times the observed performance metric is equal to or greater than the null distribution. **Another example:**\n",
        "\n",
        "Test whether there is a relationship between the predictors (drivers involved in fatal collisions per billion miles, fatal collisions caused by speeding, fatal collisions caused by alcohol-impaired drivers, drivers involved in fatal collisions for the first time, amount paid by car owners for car insurance premiums, and losses incurred by insurance companies for collisions per insured driver) and the response variable (total number of fatal collisions) in a model. (H0: no relationship, H1: relationship exists)"
      ],
      "metadata": {
        "id": "dnmWIkljcf3_"
      }
    },
    {
      "cell_type": "code",
      "source": [
        "# @title Permutation Test:\n",
        "\n",
        "import pandas as pd\n",
        "import numpy as np\n",
        "from sklearn.utils import shuffle\n",
        "from sklearn.linear_model import LinearRegression\n",
        "from sklearn.model_selection import permutation_test_score\n",
        "\n",
        "# Load data\n",
        "df = pd.read_csv('https://raw.githubusercontent.com/mwaskom/seaborn-data/master/car_crashes.csv')\n",
        "\n",
        "# Set response and predictor variables\n",
        "y = df.iloc[:, 0]  # Total number of fatal collisions\n",
        "X = df.iloc[:, 1:-1]  # All other columns except 'abbrev'\n",
        "\n",
        "# Permutation test\n",
        "lr = LinearRegression()\n",
        "score, permutation_scores, pvalue = permutation_test_score(lr, X, y, n_permutations=1000)\n",
        "\n",
        "# Print results\n",
        "print(\"Permutation Test:\")\n",
        "print(\"Score:\", score)\n",
        "print(\"P-value:\", pvalue)\n"
      ],
      "metadata": {
        "colab": {
          "base_uri": "https://localhost:8080/"
        },
        "id": "mkBii4Mtcf3_",
        "outputId": "3617d3f3-7124-40e1-c035-7a5e590947bd"
      },
      "execution_count": null,
      "outputs": [
        {
          "output_type": "stream",
          "name": "stdout",
          "text": [
            "Permutation Test:\n",
            "Score: 0.9122822664488759\n",
            "P-value: 0.000999000999000999\n"
          ]
        }
      ]
    },
    {
      "cell_type": "markdown",
      "source": [
        "The permutation test score of 0.912 and the p-value of 0.001 suggest that there is a strong relationship between the **predictors** -- *drivers involved in fatal collisions per billion miles, fatal collisions caused by speeding, fatal collisions caused by alcohol-impaired drivers, drivers involved in fatal collisions for the first time, amount paid by car owners for car insurance premiums, and losses incurred by insurance companies for collisions per insured driver* -- and the **response variable** --total number of fatal collisions -- in the model."
      ],
      "metadata": {
        "id": "ru0SSl2trJbS"
      }
    },
    {
      "cell_type": "code",
      "source": [
        "# @title Permutation Test: Including the cat\n",
        "\n",
        "import pandas as pd\n",
        "import numpy as np\n",
        "from sklearn.utils import shuffle\n",
        "from sklearn.linear_model import LinearRegression\n",
        "from sklearn.model_selection import permutation_test_score\n",
        "\n",
        "# Load data\n",
        "df = pd.read_csv('https://raw.githubusercontent.com/mwaskom/seaborn-data/master/car_crashes.csv')\n",
        "\n",
        "# Set response and predictor variables\n",
        "y = df.iloc[:, 0]  # Total number of fatal collisions\n",
        "X = df.iloc[:, 1:]  # All other columns except 'abbrev'\n",
        "\n",
        "# Encode categorical variable 'abbrev'\n",
        "X = pd.get_dummies(X, columns=['abbrev'])\n",
        "\n",
        "# Permutation test\n",
        "lr = LinearRegression()\n",
        "score, permutation_scores, pvalue = permutation_test_score(lr, X, y, n_permutations=1000)\n",
        "\n",
        "# Print results\n",
        "print(\"Permutation Test:\")\n",
        "print(\"Score:\", score)\n",
        "print(\"P-value:\", pvalue)\n"
      ],
      "metadata": {
        "colab": {
          "base_uri": "https://localhost:8080/"
        },
        "id": "PFrSRbM7rzkE",
        "outputId": "3efb3856-bf70-43b0-d2ee-5af629584b89"
      },
      "execution_count": null,
      "outputs": [
        {
          "output_type": "stream",
          "name": "stdout",
          "text": [
            "Permutation Test:\n",
            "Score: 0.9124926903787436\n",
            "P-value: 0.000999000999000999\n"
          ]
        }
      ]
    },
    {
      "cell_type": "markdown",
      "source": [
        "8.   **Hypothesis Test based on the Binomial Distribution:** Test whether the accuracy of a classifier is significantly different from a specified threshold (e.g. 50% accuracy) in classifying states into low, medium, and high number of car crashes based on the other variables in the car_crashes dataset. The test involves computing the binomial probability of obtaining the observed number of correct predictions (or a more extreme value) given the number of trials (i.e. test samples) and the specified threshold. The p-value is then computed as the probability of observing a result as extreme or more extreme than the observed result. The accuracy and F1 score can be used as metrics for classification. **Another example:**\n",
        "\n",
        "Test whether the accuracy of a classifier is significantly different from a specified threshold (e.g. 50% accuracy) in classifying states into low, medium, and high number of car crashes based on the variables in the car_crashes dataset. (H0: accuracy = threshold, H1: accuracy != threshold)"
      ],
      "metadata": {
        "id": "qlG8VveGc1oW"
      }
    },
    {
      "cell_type": "code",
      "source": [
        "# @title Hypothesis Test based on the Binomial Distribution:\n",
        "\n",
        "import pandas as pd\n",
        "import numpy as np\n",
        "from sklearn.utils import shuffle\n",
        "from sklearn.model_selection import train_test_split\n",
        "from sklearn.linear_model import LogisticRegression\n",
        "from scipy.stats import binomtest\n",
        "\n",
        "# Load data\n",
        "df = pd.read_csv('https://raw.githubusercontent.com/mwaskom/seaborn-data/master/car_crashes.csv')\n",
        "\n",
        "# Create target variable based on low, medium, high number of crashes\n",
        "df['crash_level'] = pd.cut(df['total'], bins=[0, 14, 17, float('inf')], labels=['low', 'medium', 'high'])\n",
        "\n",
        "# Set response and predictor variables\n",
        "y = df['crash_level']\n",
        "X = df.iloc[:, 1:-2]  # All columns except 'abbrev' and 'total'\n",
        "\n",
        "# Split data into training and test sets\n",
        "X_train, X_test, y_train, y_test = train_test_split(X, y, test_size=0.3, random_state=42)\n",
        "\n",
        "# Train a logistic regression classifier\n",
        "clf = LogisticRegression(random_state=42,max_iter=10000)\n",
        "clf.fit(X_train, y_train)\n",
        "\n",
        "# Test the classifier\n",
        "y_pred = clf.predict(X_test)\n",
        "\n",
        "# Compute the accuracy of the classifier\n",
        "accuracy = clf.score(X_test, y_test)\n",
        "\n",
        "# Set the threshold\n",
        "threshold = 0.5\n",
        "\n",
        "# Perform a binomial test on the accuracy\n",
        "pvalue = binomtest(sum(y_pred == y_test), n=len(y_test), p=threshold, alternative='two-sided')\n",
        "\n",
        "# Print the results\n",
        "print(\"Accuracy:\", accuracy)\n",
        "print(\"Threshold:\", threshold)\n",
        "print(\"P-value:\", pvalue)\n",
        "\n",
        "\n"
      ],
      "metadata": {
        "colab": {
          "base_uri": "https://localhost:8080/"
        },
        "id": "TmP3Y_Qrc1oX",
        "outputId": "c3b4f015-866d-4792-d32c-83de2f8b8232"
      },
      "execution_count": null,
      "outputs": [
        {
          "output_type": "stream",
          "name": "stdout",
          "text": [
            "Accuracy: 0.875\n",
            "Threshold: 0.5\n",
            "P-value: BinomTestResult(k=14, n=16, alternative='two-sided', statistic=0.875, pvalue=0.004180908203125)\n"
          ]
        }
      ]
    },
    {
      "cell_type": "markdown",
      "source": [
        "Binomial Test on whether the accuracy of a classifier is significantly different from a specified threshold (e.g. 50% accuracy) in classifying states into low, medium, and high number of car crashes based on the variables in the car_crashes dataset.\n",
        "\n",
        "The logistic regression classifier achieved an accuracy of 0.875 in classifying states into low, medium, and high number of car crashes based on the other variables in the car_crashes dataset. The threshold used for the binomial test was 0.5, which is equivalent to chance level accuracy. The p-value obtained from the binomial test is 0.004, which is less than the significance level of 0.05, suggesting that the accuracy of the classifier is significantly different from the threshold.\n",
        "\n",
        "Therefore, reject the null hypothesis (H0: accuracy = threshold) and accept the alternative hypothesis (H1: accuracy != threshold), indicating that the classifier is significantly better than chance in classifying the states based on the other variables in the dataset."
      ],
      "metadata": {
        "id": "Wq6HVl7zxZ0A"
      }
    },
    {
      "cell_type": "markdown",
      "source": [
        "9.   **McNemar's Test:** This statistical test used to evaluate the significance of differences between two models' performance on paired data. It involves constructing a contingency table of the misclassification counts for each model and computing the test statistic based on the difference between the two models' discordant pairs (i.e. cases where one model predicts correctly and the other does not). The null hypothesis is that the two models have the same misclassification rates. The p-value is then computed as the probability of observing the test statistic or a more extreme value under the null hypothesis.\n",
        "\n",
        "Test whether two models have the same misclassification rates on paired data. (H0: same rates, H1: different rates)"
      ],
      "metadata": {
        "id": "0EtGrwdbc-vT"
      }
    },
    {
      "cell_type": "code",
      "source": [
        "#@title multiclass mcnemar?\n",
        "\n",
        "from itertools import combinations\n",
        "import numpy as np\n",
        "from scipy.stats import chi2\n",
        "\n",
        "def mcnemar_multiclass(cm_list):\n",
        "    \"\"\"Perform McNemar's test for a multiclass problem given a list of confusion matrices for each classifier.\n",
        "\n",
        "    Parameters\n",
        "    ----------\n",
        "    cm_list : list of ndarray of shape (n_classes, n_classes)\n",
        "        List of confusion matrices for each classifier.\n",
        "\n",
        "    Returns\n",
        "    -------\n",
        "    float\n",
        "        The test statistic.\n",
        "    float\n",
        "        The p-value.\n",
        "    \"\"\"\n",
        "    n_classifiers = len(cm_list)\n",
        "    n_classes = cm_list[0].shape[0]\n",
        "    pairs = list(combinations(range(n_classifiers), 2))\n",
        "    n_pairs = len(pairs)\n",
        "    n_total = np.sum(cm_list)\n",
        "    test_stat = 0\n",
        "    for i, j in pairs:\n",
        "        cm_diff = cm_list[i] - cm_list[j]\n",
        "        n_diff = np.sum(np.triu(cm_diff, k=1)) + np.sum(np.tril(cm_diff, k=-1))\n",
        "        test_stat += n_diff ** 2\n",
        "    test_stat /= (n_pairs * n_total)\n",
        "    p_value = 1 - chi2.cdf(test_stat, 1)\n",
        "    return test_stat, p_value\n"
      ],
      "metadata": {
        "id": "FN7o_iXjMdQB"
      },
      "execution_count": null,
      "outputs": []
    },
    {
      "cell_type": "code",
      "source": [
        "import pandas as pd\n",
        "import numpy as np\n",
        "from sklearn.utils import shuffle\n",
        "from sklearn.model_selection import train_test_split\n",
        "from sklearn.linear_model import LogisticRegression\n",
        "from sklearn.tree import DecisionTreeClassifier\n",
        "from sklearn.metrics import confusion_matrix, f1_score\n",
        "from statsmodels.stats.contingency_tables import mcnemar\n",
        "\n",
        "# Load data\n",
        "df = pd.read_csv('https://raw.githubusercontent.com/mwaskom/seaborn-data/master/car_crashes.csv')\n",
        "\n",
        "# Create multiclass target variable based on low, medium, high number of crashes\n",
        "# df['crash_level'] = pd.cut(df['total'], bins=[0, 14, 17, float('inf')], labels=['low', 'medium', 'high'])\n",
        "\n",
        "# Create binary target variable based on low and high number of crashes\n",
        "\n",
        "df['crash_level'] = pd.qcut(df['total'], q=2, labels=['low', 'high'])\n",
        "\n",
        "# Set response and predictor variables\n",
        "y = df['crash_level']\n",
        "X = df.iloc[:, 1:-2]  # All columns except 'abbrev' and 'total'\n",
        "\n",
        "# Split data into training and test sets\n",
        "X_train, X_test, y_train, y_test = train_test_split(X, y, test_size=0.3, random_state=42)\n",
        "\n",
        "# Train two classifiers\n",
        "clf1 = LogisticRegression(random_state=42,max_iter=10000)\n",
        "# clf1 = DecisionTreeClassifier(random_state=42, max_depth=10)\n",
        "clf1.fit(X_train, y_train)\n",
        "clf2 = DecisionTreeClassifier(random_state=42)\n",
        "clf2.fit(X_train, y_train)\n",
        "\n",
        "# Test the classifiers\n",
        "y_pred1 = clf1.predict(X_test)\n",
        "y_pred2 = clf2.predict(X_test)\n",
        "\n",
        "# Compute the confusion matrices for the classifiers\n",
        "cm1 = confusion_matrix(y_test, y_pred1)\n",
        "cm2 = confusion_matrix(y_test, y_pred2)\n",
        "f1_score1 = f1_score(y_test, y_pred1, average='weighted')\n",
        "f1_score2 = f1_score(y_test, y_pred2, average='weighted')\n",
        "\n",
        "# Print the confusion matrices\n",
        "print(\"Confusion Matrix for:\", type(clf1).__name__)\n",
        "print(cm1)\n",
        "print(\"F1 score for \", type(clf1).__name__,  f1_score1)\n",
        "print(\"Confusion Matrix for:\", type(clf2).__name__)\n",
        "print(cm2)\n",
        "print(\"F1 score for\", type(clf2).__name__, f1_score2)\n",
        "\n",
        "# Compute the test statistic and p-value using McNemar's test (fix me)\n",
        "# test_stat, p_value, _, _ = mcnemar(cm1, cm2)\n",
        "\n",
        "# Manually compute the test statistic and p-value using binary class McNemar's test\n",
        "n1 = np.sum(cm1)\n",
        "n2 = np.sum(cm2)\n",
        "b = cm1[0,1]\n",
        "c = cm1[1,0]\n",
        "d = cm2[0,1]\n",
        "a = cm2[1,0]\n",
        "test_stat = ((b-c)-(d-a))**2 / (b+c+d+a)\n",
        "p_value = 1 - stats.chi2.cdf(test_stat, 1)\n",
        "\n",
        "# Compute the test statistic and p-value using multiclass McNemar's test\n",
        "# test_stat, p_value = mcnemar_multiclass([cm1, cm2])\n",
        "\n",
        "# Print the results\n",
        "print(\"Test Statistic:\", test_stat)\n",
        "print(\"P-value:\", p_value)\n"
      ],
      "metadata": {
        "colab": {
          "base_uri": "https://localhost:8080/"
        },
        "id": "8DohJfdEc-vU",
        "outputId": "4ee84768-6eaa-4624-83b7-ca8c2895b076"
      },
      "execution_count": null,
      "outputs": [
        {
          "output_type": "stream",
          "name": "stdout",
          "text": [
            "Confusion Matrix for: LogisticRegression\n",
            "[[ 5  1]\n",
            " [ 0 10]]\n",
            "F1 score for  LogisticRegression 0.9361471861471862\n",
            "Confusion Matrix for: DecisionTreeClassifier\n",
            "[[6 0]\n",
            " [1 9]]\n",
            "F1 score for DecisionTreeClassifier 0.938259109311741\n",
            "Test Statistic: 2.0\n",
            "P-value: 0.15729920705028488\n"
          ]
        }
      ]
    },
    {
      "cell_type": "markdown",
      "source": [
        "The McNemar test is used to determine whether the difference in performance between two classifiers is statistically significant. The test statistic is 2.0 and the p-value is 0.157, which suggests that there is no significant difference in performance between the two classifiers at the significance level of 0.05. However, depending on the specific context, a different significance level may be appropriate."
      ],
      "metadata": {
        "id": "Se8AIke5MWDF"
      }
    },
    {
      "cell_type": "markdown",
      "source": [
        "## Concluding remarks from hypothesis tests:\n",
        "\n",
        "The analysis of the Seaborn car_crashes dataset yielded several interesting findings. The sample mean of fatal collisions per billion miles driven was 15.79, with a sample standard deviation of 4.12. The results of the hypothesis tests indicated that there was not enough evidence to reject the null hypothesis that the population mean of fatal collisions per billion miles driven in Iowa and the state with the median number of fatal collisions is equal to the national mean of 15.79. However, there was significant evidence to reject the null hypothesis for the state with the lowest and highest number of fatal collisions.\n",
        "\n",
        "The analysis of speeding rates revealed that high-speed states had higher mean and median speeding rates than low-speed states, and top speeding states had significantly higher speeding rates than middle-speed and bottom speed states. The analysis of policy implementation in three different states showed that there was a significant difference between the average number of fatal collisions before and after the policy was implemented in one state, but not in the other two states.\n",
        "\n",
        "The regression and ANOVA analyses showed that the main effect of speeding was not statistically significant, while the main effect of alcohol consumption was statistically significant, and the interaction between alcohol consumption and speeding had a significant effect on car crashes. However, the residual source of variation was not informative due to the small sample size or high correlation between the dependent variable and independent variables.\n",
        "\n",
        "Overall, the results suggest that alcohol consumption has a significant effect on the number of car crashes, while speeding does not. The interaction between alcohol consumption and speeding also plays a role in the number of car crashes.\n",
        "\n"
      ],
      "metadata": {
        "id": "-4uTHyPrSuGS"
      }
    },
    {
      "cell_type": "markdown",
      "source": [
        "### Other hypothesis tests\n",
        "\n",
        "ROC curves are commonly used to visualise results in computer science projects. Several of the tests mentioned before can be used to help analyse the relationship between ROC curves such as the Two sample T-Test.\n",
        "\n",
        "**10. The DeLong Test** is especially accepted for determining AUC Differences\n",
        "\n",
        "**11. Wilcoxon signed-rank test** is very common for nonparametric tests as shown in the flow diagram Chapter 2c. Inferential Statistics: i. which includes Chi-Square and some other tests of coefficients we have already covered should also be noted.\n",
        "\n",
        "**12. Kolmogorov-Smirnov test (K-S test)** is useful for determining whether two sets of data follow the same distribution or not -- which we haven't covered."
      ],
      "metadata": {
        "id": "HUU33gN0AfTH"
      }
    },
    {
      "cell_type": "markdown",
      "source": [
        "## Comparing the results of two ROC curves\n",
        "\n"
      ],
      "metadata": {
        "id": "hl1Ig5AdJhvP"
      }
    },
    {
      "cell_type": "code",
      "source": [
        "# @title Comparison of Two Classification Models Using ROC Curves and Two Sample T-Test\n",
        "import numpy as np\n",
        "import matplotlib.pyplot as plt\n",
        "from sklearn.datasets import load_breast_cancer\n",
        "from sklearn.model_selection import train_test_split\n",
        "from sklearn.tree import DecisionTreeClassifier\n",
        "from sklearn.naive_bayes import GaussianNB\n",
        "from sklearn.metrics import roc_curve, roc_auc_score\n",
        "from scipy.stats import ttest_ind\n",
        "\n",
        "# Load breast cancer dataset\n",
        "data = load_breast_cancer()\n",
        "X, y = data.data, data.target\n",
        "\n",
        "# Split dataset into training and testing sets\n",
        "X_train, X_test, y_train, y_test = train_test_split(X, y, test_size=0.2, random_state=42)\n",
        "\n",
        "# Create classifiers\n",
        "clf_dt = DecisionTreeClassifier(random_state=42)\n",
        "clf_nb = GaussianNB()\n",
        "\n",
        "# Train classifiers and make predictions\n",
        "clf_dt.fit(X_train, y_train)\n",
        "clf_nb.fit(X_train, y_train)\n",
        "\n",
        "y_pred_dt = clf_dt.predict_proba(X_test)[:, 1]\n",
        "y_pred_nb = clf_nb.predict_proba(X_test)[:, 1]\n",
        "\n",
        "# Plot ROC curves\n",
        "fpr_dt, tpr_dt, _ = roc_curve(y_test, y_pred_dt)\n",
        "fpr_nb, tpr_nb, _ = roc_curve(y_test, y_pred_nb)\n",
        "\n",
        "plt.plot(fpr_dt, tpr_dt, label='Decision Tree')\n",
        "plt.plot(fpr_nb, tpr_nb, label='Naive Bayes')\n",
        "\n",
        "plt.xlabel('False Positive Rate')\n",
        "plt.ylabel('True Positive Rate')\n",
        "plt.title('ROC Curve')\n",
        "plt.legend()\n",
        "plt.show()\n",
        "\n",
        "# Calculate AUCs\n",
        "auc_dt = roc_auc_score(y_test, y_pred_dt)\n",
        "auc_nb = roc_auc_score(y_test, y_pred_nb)\n",
        "\n",
        "print('Decision Tree AUC:', auc_dt)\n",
        "print('Naive Bayes AUC:', auc_nb)\n",
        "print('AUC difference:', abs(auc_dt - auc_nb))\n",
        "\n",
        "\n",
        "# Perform hypothesis test\n",
        "t_stat, p_value = ttest_ind(y_pred_dt, y_pred_nb)\n",
        "print('\\np-value:', p_value)\n",
        "\n",
        "if p_value < 0.05:\n",
        "    print('The difference in AUC is statistically significant based on Two Sample T-Test.')\n",
        "else:\n",
        "    print('The difference in AUC is not statistically significant based on Two Sample T-Test.')\n"
      ],
      "metadata": {
        "colab": {
          "base_uri": "https://localhost:8080/",
          "height": 576
        },
        "id": "1BMR71iCJoyG",
        "outputId": "c76b0ac3-ce44-412a-9cd5-a916a8e8dc09"
      },
      "execution_count": null,
      "outputs": [
        {
          "output_type": "display_data",
          "data": {
            "text/plain": [
              "<Figure size 640x480 with 1 Axes>"
            ],
            "image/png": "[encoded data removed]"
          },
          "metadata": {}
        },
        {
          "output_type": "stream",
          "name": "stdout",
          "text": [
            "Decision Tree AUC: 0.9439895185063871\n",
            "Naive Bayes AUC: 0.9983622666229938\n",
            "AUC difference: 0.05437274811660664\n",
            "\n",
            "p-value: 0.6545951799090138\n",
            "The difference in AUC is not statistically significant.\n"
          ]
        }
      ]
    },
    {
      "cell_type": "code",
      "source": [
        "# %pip install mlxtend --upgrade\n",
        "\n",
        "# @title Comparison of Two Classification Models Using the DeLong Test for AUC Difference\n",
        "import numpy as np\n",
        "import matplotlib.pyplot as plt\n",
        "from sklearn.datasets import load_breast_cancer\n",
        "from sklearn.model_selection import train_test_split\n",
        "from sklearn.tree import DecisionTreeClassifier\n",
        "from sklearn.naive_bayes import GaussianNB\n",
        "from sklearn.metrics import roc_curve, roc_auc_score\n",
        "from scipy.stats import norm\n",
        "\n",
        "# Load breast cancer dataset\n",
        "data = load_breast_cancer()\n",
        "X, y = data.data, data.target\n",
        "\n",
        "# Split dataset into training and testing sets\n",
        "X_train, X_test, y_train, y_test = train_test_split(X, y, test_size=0.2, random_state=42)\n",
        "\n",
        "# Create classifiers\n",
        "clf_dt = DecisionTreeClassifier(random_state=42)\n",
        "clf_nb = GaussianNB()\n",
        "\n",
        "# Train classifiers and make predictions\n",
        "clf_dt.fit(X_train, y_train)\n",
        "clf_nb.fit(X_train, y_train)\n",
        "\n",
        "y_pred_dt = clf_dt.predict_proba(X_test)[:, 1]\n",
        "y_pred_nb = clf_nb.predict_proba(X_test)[:, 1]\n",
        "\n",
        "# Plot ROC curves\n",
        "fpr_dt, tpr_dt, _ = roc_curve(y_test, y_pred_dt)\n",
        "fpr_nb, tpr_nb, _ = roc_curve(y_test, y_pred_nb)\n",
        "\n",
        "plt.plot(fpr_dt, tpr_dt, label='Decision Tree')\n",
        "plt.plot(fpr_nb, tpr_nb, label='Naive Bayes')\n",
        "\n",
        "plt.xlabel('False Positive Rate')\n",
        "plt.ylabel('True Positive Rate')\n",
        "plt.title('ROC Curve')\n",
        "plt.legend()\n",
        "plt.show()\n",
        "\n",
        "# Calculate AUCs\n",
        "auc_dt = roc_auc_score(y_test, y_pred_dt)\n",
        "auc_nb = roc_auc_score(y_test, y_pred_nb)\n",
        "\n",
        "# Perform hypothesis test using DeLong test\n",
        "n1, n2 = len(y_pred_dt), len(y_pred_nb)\n",
        "se_diff = np.sqrt(auc_dt*(1-auc_dt)/n1 + auc_nb*(1-auc_nb)/n2)\n",
        "z = (auc_dt - auc_nb) / se_diff\n",
        "p_value = 2*(1-norm.cdf(abs(z)))\n",
        "\n",
        "print('Decision Tree AUC:', auc_dt)\n",
        "print('Naive Bayes AUC:', auc_nb)\n",
        "print('AUC difference:', abs(auc_dt - auc_nb))\n",
        "\n",
        "print('\\nDeLong z-score: {:.2f}, p-value: {:.2f}'.format(z, p_value))\n",
        "if p_value < 0.05:\n",
        "    print('The difference in AUC is statistically significant based on Delong test.')\n",
        "else:\n",
        "    print('The difference in AUC is not statistically significant based on Delong test.')\n"
      ],
      "metadata": {
        "colab": {
          "base_uri": "https://localhost:8080/",
          "height": 576
        },
        "id": "CIsYIc8qNVPp",
        "outputId": "8517ca9a-2fb8-4886-cffb-066f1f6e6d71"
      },
      "execution_count": null,
      "outputs": [
        {
          "output_type": "display_data",
          "data": {
            "text/plain": [
              "<Figure size 640x480 with 1 Axes>"
            ],
            "image/png": "[encoded data removed]"
          },
          "metadata": {}
        },
        {
          "output_type": "stream",
          "name": "stdout",
          "text": [
            "Decision Tree AUC: 0.9439895185063871\n",
            "Naive Bayes AUC: 0.9983622666229938\n",
            "AUC difference: 0.05437274811660664\n",
            "\n",
            "DeLong z-score: -2.49, p-value: 0.01\n",
            "The difference in AUC is statistically significant based on Delong test.\n"
          ]
        }
      ]
    },
    {
      "cell_type": "code",
      "source": [
        "#@title Simple Wilcoxon signed-rank test example\n",
        "from scipy.stats import wilcoxon\n",
        "\n",
        "# pre-test scores of 10 students\n",
        "pre_test = [75, 80, 72, 85, 78, 90, 82, 87, 79, 91]\n",
        "\n",
        "# post-test scores of the same 10 students\n",
        "post_test = [80, 85, 75, 90, 80, 95, 85, 92, 81, 93]\n",
        "\n",
        "# perform a Wilcoxon signed-rank test\n",
        "statistic, pvalue = wilcoxon(pre_test, post_test)\n",
        "\n",
        "# print the test results\n",
        "print(f\"Wilcoxon signed-rank test:\")\n",
        "print(f\"Statistic: {statistic}\")\n",
        "print(f\"P-value: {pvalue}\")\n"
      ],
      "metadata": {
        "id": "tPRrTxUWBy7c",
        "colab": {
          "base_uri": "https://localhost:8080/"
        },
        "outputId": "53b01b71-4100-4fe8-f4a7-42b061cab423"
      },
      "execution_count": null,
      "outputs": [
        {
          "output_type": "stream",
          "name": "stdout",
          "text": [
            "Wilcoxon signed-rank test:\n",
            "Statistic: 0.0\n",
            "P-value: 0.001953125\n"
          ]
        }
      ]
    },
    {
      "cell_type": "code",
      "source": [
        "#@title Simple Kolmogorov-Smirnov test (K-S test) example\n",
        "from scipy.stats import kstest, norm\n",
        "import numpy as np\n",
        "\n",
        "# generate a sample of 20 observations from a standard normal distribution\n",
        "sample = np.random.randn(20)\n",
        "\n",
        "# perform a one-sample K-S test\n",
        "statistic, pvalue = kstest(sample, 'norm', args=(0, 1))\n",
        "\n",
        "# print the test results\n",
        "print(f\"One-sample K-S test:\")\n",
        "print(f\"Statistic: {statistic}\")\n",
        "print(f\"P-value: {pvalue}\")\n"
      ],
      "metadata": {
        "id": "KD-21a9xB6io",
        "colab": {
          "base_uri": "https://localhost:8080/"
        },
        "outputId": "1f6d1adc-afbe-4056-b08a-1cd952543e7f"
      },
      "execution_count": null,
      "outputs": [
        {
          "output_type": "stream",
          "name": "stdout",
          "text": [
            "One-sample K-S test:\n",
            "Statistic: 0.24861861317259878\n",
            "P-value: 0.14167192547887975\n"
          ]
        }
      ]
    },
    {
      "cell_type": "markdown",
      "source": [
        "<a name=\"limitations\"></a>\n",
        "## d) Identifying limitations and uncertainties:\n",
        "\n",
        "1.   One limitation of this analysis is that the dataset only includes information on fatal car crashes, and does not provide information on non-fatal accidents.\n",
        "\n",
        "1.   Another limitation is that the dataset does not provide information on other factors that may contribute to car crashes, such as road conditions, weather, and driver behavior.\n",
        "\n",
        "1.   Time is also an important missing variable.\n",
        "\n",
        "1.   There is also some uncertainty around the accuracy of the machine learning models and clustering algorithms, as these models are based on assumptions about the underlying relationships between variables that may not hold true in all car crash cases.\n",
        "\n",
        "### What else can you think of?"
      ],
      "metadata": {
        "id": "aTydJK5pij_t"
      }
    },
    {
      "cell_type": "markdown",
      "source": [
        "# **Scientific Research**\n",
        "\n",
        "I hope this course provides clarity on several projects that use the scientific method. The Chapter 4 is the short, final chapter that looks at other theses:\n",
        "\n",
        "[Brown thesis -- 6.4 Wilcoxon signed-rank test and 6.6 ANOVA](https://etd.uwc.ac.za/bitstream/handle/11394/3455/Brown_MSC_2013.pdf?sequence=1&isAllowed=y)\n",
        "\n",
        "[Poole's thesis -- 5.1.3  McNemar-Bowker Test](https://vital.seals.ac.za/vital/access/manager/PdfViewer/vital:49989/SOURCE1?site_name=GlobalView&viewPdfInternal=1#:~:text=5.1.3%20%20McNemar%20Test,the%20contingency%20table\n",
        ")\n",
        "\n",
        "[Journal1 -- 3.2 Wilcoxon signed-rank test and 3.11/12 Chi-Square](https://www.mdpi.com/2071-1050/11/8/2219)\n",
        "\n",
        "[Journal2 -- Discussion in first person](https://link.springer.com/article/10.1007/s10994-016-5612-6#:~:text=the%20null%20model.-,7%20Experiments,-We%20will%20now)\n",
        "\n",
        "These are the important topics covered:\n",
        "\n",
        "## **Results Discussion and Insights towards scientific research:**\n",
        "1.   Summarizing key findings and insights\n",
        "1.   Discussion of implications on results significance\n",
        "1.   Linking to relevant literature and research questions and objectives\n",
        "1.   Highlighting contributions\n",
        "1.   Future research directions\n"
      ],
      "metadata": {
        "id": "FZGy5JRuFljK"
      }
    },
    {
      "cell_type": "markdown",
      "source": [
        "There is not one set way to do this. Remember the example outline:\n",
        "\n",
        "1.   Summary of research findings and achieved objectives\n",
        "1.   Significance and implications of research\n",
        "1.   Recap research problem, questions, and link it to main findings\n",
        "1.   Contributions and limitations\n",
        "1.   Potential impact of future studies"
      ],
      "metadata": {
        "id": "QHdhcLB45los"
      }
    }
  ]
}